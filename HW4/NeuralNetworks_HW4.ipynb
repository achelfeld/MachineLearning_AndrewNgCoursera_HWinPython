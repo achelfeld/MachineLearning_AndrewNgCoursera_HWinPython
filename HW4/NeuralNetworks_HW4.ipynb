{
 "cells": [
  {
   "cell_type": "code",
   "execution_count": 1,
   "metadata": {},
   "outputs": [],
   "source": [
    "# Written by Anna C Helfeld C\n",
    "# Fall 2018-Winter 2019\n",
    "\n",
    "# This code uses my solutions written in Octave/Matlab as a guide\n",
    "# Machine Learning (Andrew Ng class on Coursera)\n",
    "# Homework 4: Neural Networks "
   ]
  },
  {
   "cell_type": "code",
   "execution_count": 2,
   "metadata": {},
   "outputs": [],
   "source": [
    "# Import libraries\n",
    "from pandas import *\n",
    "import matplotlib as mpl\n",
    "import matplotlib.pyplot as plt\n",
    "import numpy as np\n",
    "import scipy.io as sio\n",
    "from scipy import optimize\n",
    "import math as mth"
   ]
  },
  {
   "cell_type": "code",
   "execution_count": 3,
   "metadata": {},
   "outputs": [
    {
     "data": {
      "text/plain": [
       "True"
      ]
     },
     "execution_count": 3,
     "metadata": {},
     "output_type": "execute_result"
    }
   ],
   "source": [
    "# \"From scratch\" neural network - not using MLPClassifier; see HW3 for that implementation\n",
    "# X contains pixel data of handwritten digits\n",
    "# y contains digit class (1, 2, 3, etc.)\n",
    "\n",
    "# Make sure file exists\n",
    "import os  \n",
    "os.path.isfile('./ex4data1.mat')    # True  "
   ]
  },
  {
   "cell_type": "code",
   "execution_count": 4,
   "metadata": {},
   "outputs": [
    {
     "data": {
      "text/plain": [
       "{'__header__': b'MATLAB 5.0 MAT-file, Platform: GLNXA64, Created on: Sun Oct 16 13:09:09 2011',\n",
       " '__version__': '1.0',\n",
       " '__globals__': [],\n",
       " 'X': array([[0., 0., 0., ..., 0., 0., 0.],\n",
       "        [0., 0., 0., ..., 0., 0., 0.],\n",
       "        [0., 0., 0., ..., 0., 0., 0.],\n",
       "        ...,\n",
       "        [0., 0., 0., ..., 0., 0., 0.],\n",
       "        [0., 0., 0., ..., 0., 0., 0.],\n",
       "        [0., 0., 0., ..., 0., 0., 0.]]),\n",
       " 'y': array([[10],\n",
       "        [10],\n",
       "        [10],\n",
       "        ...,\n",
       "        [ 9],\n",
       "        [ 9],\n",
       "        [ 9]], dtype=uint8)}"
      ]
     },
     "execution_count": 4,
     "metadata": {},
     "output_type": "execute_result"
    }
   ],
   "source": [
    "# Load data\n",
    "import h5py \n",
    "digitfile = sio.loadmat('ex4data1.mat') \n",
    "digitfile"
   ]
  },
  {
   "cell_type": "code",
   "execution_count": 5,
   "metadata": {},
   "outputs": [],
   "source": [
    "# Put X and y data into arrays\n",
    "Xdata = digitfile['X']\n",
    "ydata = digitfile['y']\n",
    "Alldata = np.concatenate((Xdata,ydata), axis=1)"
   ]
  },
  {
   "cell_type": "code",
   "execution_count": 6,
   "metadata": {},
   "outputs": [
    {
     "data": {
      "text/html": [
       "<div>\n",
       "<style scoped>\n",
       "    .dataframe tbody tr th:only-of-type {\n",
       "        vertical-align: middle;\n",
       "    }\n",
       "\n",
       "    .dataframe tbody tr th {\n",
       "        vertical-align: top;\n",
       "    }\n",
       "\n",
       "    .dataframe thead th {\n",
       "        text-align: right;\n",
       "    }\n",
       "</style>\n",
       "<table border=\"1\" class=\"dataframe\">\n",
       "  <thead>\n",
       "    <tr style=\"text-align: right;\">\n",
       "      <th></th>\n",
       "      <th>0</th>\n",
       "      <th>1</th>\n",
       "      <th>2</th>\n",
       "      <th>3</th>\n",
       "      <th>4</th>\n",
       "      <th>5</th>\n",
       "      <th>6</th>\n",
       "      <th>7</th>\n",
       "      <th>8</th>\n",
       "      <th>9</th>\n",
       "      <th>...</th>\n",
       "      <th>391</th>\n",
       "      <th>392</th>\n",
       "      <th>393</th>\n",
       "      <th>394</th>\n",
       "      <th>395</th>\n",
       "      <th>396</th>\n",
       "      <th>397</th>\n",
       "      <th>398</th>\n",
       "      <th>399</th>\n",
       "      <th>400</th>\n",
       "    </tr>\n",
       "  </thead>\n",
       "  <tbody>\n",
       "    <tr>\n",
       "      <th>0</th>\n",
       "      <td>0.0</td>\n",
       "      <td>0.0</td>\n",
       "      <td>0.0</td>\n",
       "      <td>0.0</td>\n",
       "      <td>0.0</td>\n",
       "      <td>0.0</td>\n",
       "      <td>0.0</td>\n",
       "      <td>0.0</td>\n",
       "      <td>0.0</td>\n",
       "      <td>0.0</td>\n",
       "      <td>...</td>\n",
       "      <td>0.0</td>\n",
       "      <td>0.0</td>\n",
       "      <td>0.0</td>\n",
       "      <td>0.0</td>\n",
       "      <td>0.0</td>\n",
       "      <td>0.0</td>\n",
       "      <td>0.0</td>\n",
       "      <td>0.0</td>\n",
       "      <td>0.0</td>\n",
       "      <td>10.0</td>\n",
       "    </tr>\n",
       "    <tr>\n",
       "      <th>1</th>\n",
       "      <td>0.0</td>\n",
       "      <td>0.0</td>\n",
       "      <td>0.0</td>\n",
       "      <td>0.0</td>\n",
       "      <td>0.0</td>\n",
       "      <td>0.0</td>\n",
       "      <td>0.0</td>\n",
       "      <td>0.0</td>\n",
       "      <td>0.0</td>\n",
       "      <td>0.0</td>\n",
       "      <td>...</td>\n",
       "      <td>0.0</td>\n",
       "      <td>0.0</td>\n",
       "      <td>0.0</td>\n",
       "      <td>0.0</td>\n",
       "      <td>0.0</td>\n",
       "      <td>0.0</td>\n",
       "      <td>0.0</td>\n",
       "      <td>0.0</td>\n",
       "      <td>0.0</td>\n",
       "      <td>10.0</td>\n",
       "    </tr>\n",
       "    <tr>\n",
       "      <th>2</th>\n",
       "      <td>0.0</td>\n",
       "      <td>0.0</td>\n",
       "      <td>0.0</td>\n",
       "      <td>0.0</td>\n",
       "      <td>0.0</td>\n",
       "      <td>0.0</td>\n",
       "      <td>0.0</td>\n",
       "      <td>0.0</td>\n",
       "      <td>0.0</td>\n",
       "      <td>0.0</td>\n",
       "      <td>...</td>\n",
       "      <td>0.0</td>\n",
       "      <td>0.0</td>\n",
       "      <td>0.0</td>\n",
       "      <td>0.0</td>\n",
       "      <td>0.0</td>\n",
       "      <td>0.0</td>\n",
       "      <td>0.0</td>\n",
       "      <td>0.0</td>\n",
       "      <td>0.0</td>\n",
       "      <td>10.0</td>\n",
       "    </tr>\n",
       "    <tr>\n",
       "      <th>3</th>\n",
       "      <td>0.0</td>\n",
       "      <td>0.0</td>\n",
       "      <td>0.0</td>\n",
       "      <td>0.0</td>\n",
       "      <td>0.0</td>\n",
       "      <td>0.0</td>\n",
       "      <td>0.0</td>\n",
       "      <td>0.0</td>\n",
       "      <td>0.0</td>\n",
       "      <td>0.0</td>\n",
       "      <td>...</td>\n",
       "      <td>0.0</td>\n",
       "      <td>0.0</td>\n",
       "      <td>0.0</td>\n",
       "      <td>0.0</td>\n",
       "      <td>0.0</td>\n",
       "      <td>0.0</td>\n",
       "      <td>0.0</td>\n",
       "      <td>0.0</td>\n",
       "      <td>0.0</td>\n",
       "      <td>10.0</td>\n",
       "    </tr>\n",
       "    <tr>\n",
       "      <th>4</th>\n",
       "      <td>0.0</td>\n",
       "      <td>0.0</td>\n",
       "      <td>0.0</td>\n",
       "      <td>0.0</td>\n",
       "      <td>0.0</td>\n",
       "      <td>0.0</td>\n",
       "      <td>0.0</td>\n",
       "      <td>0.0</td>\n",
       "      <td>0.0</td>\n",
       "      <td>0.0</td>\n",
       "      <td>...</td>\n",
       "      <td>0.0</td>\n",
       "      <td>0.0</td>\n",
       "      <td>0.0</td>\n",
       "      <td>0.0</td>\n",
       "      <td>0.0</td>\n",
       "      <td>0.0</td>\n",
       "      <td>0.0</td>\n",
       "      <td>0.0</td>\n",
       "      <td>0.0</td>\n",
       "      <td>10.0</td>\n",
       "    </tr>\n",
       "  </tbody>\n",
       "</table>\n",
       "<p>5 rows × 401 columns</p>\n",
       "</div>"
      ],
      "text/plain": [
       "   0    1    2    3    4    5    6    7    8    9    ...   391  392  393  394  \\\n",
       "0  0.0  0.0  0.0  0.0  0.0  0.0  0.0  0.0  0.0  0.0  ...   0.0  0.0  0.0  0.0   \n",
       "1  0.0  0.0  0.0  0.0  0.0  0.0  0.0  0.0  0.0  0.0  ...   0.0  0.0  0.0  0.0   \n",
       "2  0.0  0.0  0.0  0.0  0.0  0.0  0.0  0.0  0.0  0.0  ...   0.0  0.0  0.0  0.0   \n",
       "3  0.0  0.0  0.0  0.0  0.0  0.0  0.0  0.0  0.0  0.0  ...   0.0  0.0  0.0  0.0   \n",
       "4  0.0  0.0  0.0  0.0  0.0  0.0  0.0  0.0  0.0  0.0  ...   0.0  0.0  0.0  0.0   \n",
       "\n",
       "   395  396  397  398  399   400  \n",
       "0  0.0  0.0  0.0  0.0  0.0  10.0  \n",
       "1  0.0  0.0  0.0  0.0  0.0  10.0  \n",
       "2  0.0  0.0  0.0  0.0  0.0  10.0  \n",
       "3  0.0  0.0  0.0  0.0  0.0  10.0  \n",
       "4  0.0  0.0  0.0  0.0  0.0  10.0  \n",
       "\n",
       "[5 rows x 401 columns]"
      ]
     },
     "execution_count": 6,
     "metadata": {},
     "output_type": "execute_result"
    }
   ],
   "source": [
    "Alldatadf = DataFrame(data=Alldata)  #Put data into data frame\n",
    "Alldatadf.head()"
   ]
  },
  {
   "cell_type": "code",
   "execution_count": 7,
   "metadata": {},
   "outputs": [
    {
     "data": {
      "text/html": [
       "<div>\n",
       "<style scoped>\n",
       "    .dataframe tbody tr th:only-of-type {\n",
       "        vertical-align: middle;\n",
       "    }\n",
       "\n",
       "    .dataframe tbody tr th {\n",
       "        vertical-align: top;\n",
       "    }\n",
       "\n",
       "    .dataframe thead th {\n",
       "        text-align: right;\n",
       "    }\n",
       "</style>\n",
       "<table border=\"1\" class=\"dataframe\">\n",
       "  <thead>\n",
       "    <tr style=\"text-align: right;\">\n",
       "      <th></th>\n",
       "      <th>0</th>\n",
       "      <th>1</th>\n",
       "      <th>2</th>\n",
       "      <th>3</th>\n",
       "      <th>4</th>\n",
       "      <th>5</th>\n",
       "      <th>6</th>\n",
       "      <th>7</th>\n",
       "      <th>8</th>\n",
       "      <th>9</th>\n",
       "      <th>...</th>\n",
       "      <th>391</th>\n",
       "      <th>392</th>\n",
       "      <th>393</th>\n",
       "      <th>394</th>\n",
       "      <th>395</th>\n",
       "      <th>396</th>\n",
       "      <th>397</th>\n",
       "      <th>398</th>\n",
       "      <th>399</th>\n",
       "      <th>400</th>\n",
       "    </tr>\n",
       "  </thead>\n",
       "  <tbody>\n",
       "    <tr>\n",
       "      <th>4032</th>\n",
       "      <td>0.0</td>\n",
       "      <td>0.0</td>\n",
       "      <td>0.0</td>\n",
       "      <td>0.0</td>\n",
       "      <td>0.0</td>\n",
       "      <td>0.0</td>\n",
       "      <td>0.0</td>\n",
       "      <td>0.0</td>\n",
       "      <td>0.0</td>\n",
       "      <td>0.0</td>\n",
       "      <td>...</td>\n",
       "      <td>0.000000</td>\n",
       "      <td>0.000000</td>\n",
       "      <td>0.000000</td>\n",
       "      <td>0.000000</td>\n",
       "      <td>0.0</td>\n",
       "      <td>0.0</td>\n",
       "      <td>0.0</td>\n",
       "      <td>0.0</td>\n",
       "      <td>0.0</td>\n",
       "      <td>8.0</td>\n",
       "    </tr>\n",
       "    <tr>\n",
       "      <th>2884</th>\n",
       "      <td>0.0</td>\n",
       "      <td>0.0</td>\n",
       "      <td>0.0</td>\n",
       "      <td>0.0</td>\n",
       "      <td>0.0</td>\n",
       "      <td>0.0</td>\n",
       "      <td>0.0</td>\n",
       "      <td>0.0</td>\n",
       "      <td>0.0</td>\n",
       "      <td>0.0</td>\n",
       "      <td>...</td>\n",
       "      <td>0.000000</td>\n",
       "      <td>0.000000</td>\n",
       "      <td>0.000000</td>\n",
       "      <td>0.000000</td>\n",
       "      <td>0.0</td>\n",
       "      <td>0.0</td>\n",
       "      <td>0.0</td>\n",
       "      <td>0.0</td>\n",
       "      <td>0.0</td>\n",
       "      <td>5.0</td>\n",
       "    </tr>\n",
       "    <tr>\n",
       "      <th>3135</th>\n",
       "      <td>0.0</td>\n",
       "      <td>0.0</td>\n",
       "      <td>0.0</td>\n",
       "      <td>0.0</td>\n",
       "      <td>0.0</td>\n",
       "      <td>0.0</td>\n",
       "      <td>0.0</td>\n",
       "      <td>0.0</td>\n",
       "      <td>0.0</td>\n",
       "      <td>0.0</td>\n",
       "      <td>...</td>\n",
       "      <td>0.000000</td>\n",
       "      <td>0.000000</td>\n",
       "      <td>0.000000</td>\n",
       "      <td>0.000000</td>\n",
       "      <td>0.0</td>\n",
       "      <td>0.0</td>\n",
       "      <td>0.0</td>\n",
       "      <td>0.0</td>\n",
       "      <td>0.0</td>\n",
       "      <td>6.0</td>\n",
       "    </tr>\n",
       "    <tr>\n",
       "      <th>3379</th>\n",
       "      <td>0.0</td>\n",
       "      <td>0.0</td>\n",
       "      <td>0.0</td>\n",
       "      <td>0.0</td>\n",
       "      <td>0.0</td>\n",
       "      <td>0.0</td>\n",
       "      <td>0.0</td>\n",
       "      <td>0.0</td>\n",
       "      <td>0.0</td>\n",
       "      <td>0.0</td>\n",
       "      <td>...</td>\n",
       "      <td>-0.001059</td>\n",
       "      <td>-0.000993</td>\n",
       "      <td>-0.000343</td>\n",
       "      <td>0.000032</td>\n",
       "      <td>0.0</td>\n",
       "      <td>0.0</td>\n",
       "      <td>0.0</td>\n",
       "      <td>0.0</td>\n",
       "      <td>0.0</td>\n",
       "      <td>6.0</td>\n",
       "    </tr>\n",
       "    <tr>\n",
       "      <th>2062</th>\n",
       "      <td>0.0</td>\n",
       "      <td>0.0</td>\n",
       "      <td>0.0</td>\n",
       "      <td>0.0</td>\n",
       "      <td>0.0</td>\n",
       "      <td>0.0</td>\n",
       "      <td>0.0</td>\n",
       "      <td>0.0</td>\n",
       "      <td>0.0</td>\n",
       "      <td>0.0</td>\n",
       "      <td>...</td>\n",
       "      <td>0.000000</td>\n",
       "      <td>0.000000</td>\n",
       "      <td>0.000000</td>\n",
       "      <td>0.000000</td>\n",
       "      <td>0.0</td>\n",
       "      <td>0.0</td>\n",
       "      <td>0.0</td>\n",
       "      <td>0.0</td>\n",
       "      <td>0.0</td>\n",
       "      <td>4.0</td>\n",
       "    </tr>\n",
       "  </tbody>\n",
       "</table>\n",
       "<p>5 rows × 401 columns</p>\n",
       "</div>"
      ],
      "text/plain": [
       "      0    1    2    3    4    5    6    7    8    9   ...        391  \\\n",
       "4032  0.0  0.0  0.0  0.0  0.0  0.0  0.0  0.0  0.0  0.0 ...   0.000000   \n",
       "2884  0.0  0.0  0.0  0.0  0.0  0.0  0.0  0.0  0.0  0.0 ...   0.000000   \n",
       "3135  0.0  0.0  0.0  0.0  0.0  0.0  0.0  0.0  0.0  0.0 ...   0.000000   \n",
       "3379  0.0  0.0  0.0  0.0  0.0  0.0  0.0  0.0  0.0  0.0 ...  -0.001059   \n",
       "2062  0.0  0.0  0.0  0.0  0.0  0.0  0.0  0.0  0.0  0.0 ...   0.000000   \n",
       "\n",
       "           392       393       394  395  396  397  398  399  400  \n",
       "4032  0.000000  0.000000  0.000000  0.0  0.0  0.0  0.0  0.0  8.0  \n",
       "2884  0.000000  0.000000  0.000000  0.0  0.0  0.0  0.0  0.0  5.0  \n",
       "3135  0.000000  0.000000  0.000000  0.0  0.0  0.0  0.0  0.0  6.0  \n",
       "3379 -0.000993 -0.000343  0.000032  0.0  0.0  0.0  0.0  0.0  6.0  \n",
       "2062  0.000000  0.000000  0.000000  0.0  0.0  0.0  0.0  0.0  4.0  \n",
       "\n",
       "[5 rows x 401 columns]"
      ]
     },
     "execution_count": 7,
     "metadata": {},
     "output_type": "execute_result"
    }
   ],
   "source": [
    "Alldatadf_ran = Alldatadf.sample(frac=1) #randomize data\n",
    "Alldatadf_ran.head() #check "
   ]
  },
  {
   "cell_type": "code",
   "execution_count": 8,
   "metadata": {},
   "outputs": [],
   "source": [
    "# Split into training data and cross-validation data\n",
    "Xtrain = Alldatadf_ran.iloc[0:mth.floor(Alldatadf_ran.shape[0]*0.8),0:-1]\n",
    "ytrain = Alldatadf_ran.iloc[0:mth.floor(Alldatadf_ran.shape[0]*0.8),-1]\n",
    "\n",
    "Xcv = Alldatadf_ran.iloc[mth.floor(Alldatadf_ran.shape[0]*0.8):Alldatadf_ran.shape[0],0:-1]\n",
    "ycv = Alldatadf_ran.iloc[mth.floor(Alldatadf_ran.shape[0]*0.8):Alldatadf_ran.shape[0],-1]"
   ]
  },
  {
   "cell_type": "code",
   "execution_count": 9,
   "metadata": {},
   "outputs": [],
   "source": [
    "# Put into arrays\n",
    "Xtrain_a = Xtrain.values\n",
    "ytrain_a = ytrain.values\n",
    "Xcv_a = Xcv.values\n",
    "ycv_a = ycv.values"
   ]
  },
  {
   "cell_type": "code",
   "execution_count": 10,
   "metadata": {},
   "outputs": [],
   "source": [
    "# Define sigmoid and sigmoid gradient functions\n",
    "def sigmoid(x):\n",
    "    return 1/(1+np.exp(-x))\n",
    "def sigmoidgrad(x):\n",
    "    return sigmoid(x)*(1-sigmoid(x));"
   ]
  },
  {
   "cell_type": "code",
   "execution_count": 11,
   "metadata": {},
   "outputs": [],
   "source": [
    "# Add bias term to Xtrain_a\n",
    "Xtrain_ab = np.concatenate((np.ones((Xtrain_a.shape[0],1)),Xtrain_a),axis=1)"
   ]
  },
  {
   "cell_type": "code",
   "execution_count": 12,
   "metadata": {},
   "outputs": [],
   "source": [
    "# Define parameters of neural network\n",
    "hl_size = 25 #size of hidden layer\n",
    "ol_size = 10 #size of output layer\n",
    "eps = 0.12 #range of random number initialization of theta \n",
    "numsam = ytrain_a.size #number of training examples\n",
    "lam_reg = 1 #regularization"
   ]
  },
  {
   "cell_type": "code",
   "execution_count": 13,
   "metadata": {},
   "outputs": [],
   "source": [
    "# Initialize theta - the weights in the neural network\n",
    "Theta1 = np.random.uniform(low=-eps, high=eps, size=(hl_size,Xtrain_a.shape[1]+1)) #25by401\n",
    "Theta2 = np.random.uniform(low=-eps, high=eps, size=(ol_size,hl_size+1)) #10by26"
   ]
  },
  {
   "cell_type": "code",
   "execution_count": 14,
   "metadata": {
    "scrolled": true
   },
   "outputs": [],
   "source": [
    "# Flatten Thetas and put into one 1D array\n",
    "thetas_oned = np.concatenate((Theta1.flatten(),Theta2.flatten()))"
   ]
  },
  {
   "cell_type": "code",
   "execution_count": 15,
   "metadata": {},
   "outputs": [
    {
     "data": {
      "text/plain": [
       "(25, 401)"
      ]
     },
     "execution_count": 15,
     "metadata": {},
     "output_type": "execute_result"
    }
   ],
   "source": [
    "# Check the re-shape of theta1\n",
    "Theta1_test = thetas_oned[0:hl_size*(Xtrain_a.shape[1]+1)].reshape((hl_size,Xtrain_a.shape[1]+1)) \n",
    "Theta1_test.shape"
   ]
  },
  {
   "cell_type": "code",
   "execution_count": 16,
   "metadata": {},
   "outputs": [
    {
     "data": {
      "text/plain": [
       "(10, 26)"
      ]
     },
     "execution_count": 16,
     "metadata": {},
     "output_type": "execute_result"
    }
   ],
   "source": [
    "# Check the re-shape of theta2\n",
    "Theta2_test = thetas_oned[hl_size*(Xtrain_a.shape[1]+1):].reshape((ol_size,hl_size+1)) \n",
    "Theta2_test.shape"
   ]
  },
  {
   "cell_type": "code",
   "execution_count": 17,
   "metadata": {},
   "outputs": [
    {
     "data": {
      "text/plain": [
       "array([8., 5., 6., ..., 8., 6., 9.])"
      ]
     },
     "execution_count": 17,
     "metadata": {},
     "output_type": "execute_result"
    }
   ],
   "source": [
    "ytrain_a #check"
   ]
  },
  {
   "cell_type": "code",
   "execution_count": 18,
   "metadata": {},
   "outputs": [],
   "source": [
    "# Function for changing the form of y\n",
    "#Change to a num_samples by 10 matrix\n",
    "def reparam_y(y, ol_sz, m):\n",
    "    yn = np.zeros((y.size,ol_sz))\n",
    "    for i in range(0,m): # m = num_samples -> 4000\n",
    "        if y[i]==10:\n",
    "            yn[i,0]=1\n",
    "        else:\n",
    "            yn[i,int(y[i])]=1\n",
    "    return yn"
   ]
  },
  {
   "cell_type": "code",
   "execution_count": 19,
   "metadata": {},
   "outputs": [
    {
     "data": {
      "text/plain": [
       "array([[0., 0., 0., ..., 0., 1., 0.],\n",
       "       [0., 0., 0., ..., 0., 0., 0.],\n",
       "       [0., 0., 0., ..., 0., 0., 0.],\n",
       "       ...,\n",
       "       [0., 0., 0., ..., 0., 1., 0.],\n",
       "       [0., 0., 0., ..., 0., 0., 0.],\n",
       "       [0., 0., 0., ..., 0., 0., 1.]])"
      ]
     },
     "execution_count": 19,
     "metadata": {},
     "output_type": "execute_result"
    }
   ],
   "source": [
    "ycheckn=reparam_y(ytrain_a,ol_size,numsam)\n",
    "ycheckn #check to make sure it looks right"
   ]
  },
  {
   "cell_type": "code",
   "execution_count": 22,
   "metadata": {},
   "outputs": [],
   "source": [
    "# Forward propogation cost function\n",
    "# theta1 and theta2 are the weights for the network, hl and ol are hidden and output layer size\n",
    "# m is number of samples, lam is the regularization parameter\n",
    "args = (Xtrain_ab, ytrain_a, hl_size, ol_size, numsam, lam_reg)  # parameter values\n",
    "def fpnn_cost(x, *args):\n",
    "    thetas = x\n",
    "    X, y, hl_sz, ol_sz, m, lam = args\n",
    "    \n",
    "    #Reshape thetas\n",
    "    theta1 = thetas[0:hl_sz*(X.shape[1])].reshape((hl_sz,X.shape[1]))\n",
    "    theta2 = thetas[hl_sz*(X.shape[1]):].reshape((ol_sz,hl_sz+1)) \n",
    "    \n",
    "    # Calculate layer 2\n",
    "    z2 = np.matmul(X,np.transpose(theta1)) # 4000by401 x 401by25 = 4000by25\n",
    "    a2 = sigmoid(z2) #4000by25\n",
    "    # Add bias term of ones\n",
    "    a2 = np.concatenate((np.ones((a2.shape[0],1)),a2),axis=1) #4000by1 conc 4000by25 -> 4000by26\n",
    "    #Calculate layer 3\n",
    "    z3 = np.matmul(a2,np.transpose(theta2)) #4000by26 x 26by10 = 4000by10\n",
    "    a3 = sigmoid(z3)\n",
    "    \n",
    "    ynew = reparam_y(y,ol_sz,m)\n",
    "            \n",
    "    #Calculate cost function\n",
    "    Jtemp = (-ynew*np.log(a3))-((float(1)-ynew)*np.log(float(1)-a3)) #4000by10 \n",
    "    Jtemp2 = Jtemp.sum(axis=1).sum(axis=0)/m #sum over rows then columns, divide by m\n",
    "    #Add regularizing term, parameterized by lam\n",
    "    Reg_term = np.square(theta1[:,1:]).sum(axis=1).sum(axis=0) + np.square(theta2[:,1:]).sum(axis=1).sum(axis=0)\n",
    "    Reg_term = Reg_term*lam/(float(2*m))\n",
    "    J = Jtemp2 + Reg_term\n",
    "    return J"
   ]
  },
  {
   "cell_type": "code",
   "execution_count": 23,
   "metadata": {},
   "outputs": [],
   "source": [
    "# Back propogation function\n",
    "args = (Xtrain_ab, ytrain_a, hl_size, ol_size, numsam, lam_reg)  # parameter values\n",
    "def backprop(x, *args):\n",
    "    thetas = x\n",
    "    X, y, hl_sz, ol_sz, m, lam = args\n",
    "    \n",
    "    #Reshape thetas\n",
    "    theta1 = thetas[0:hl_sz*(X.shape[1])].reshape((hl_sz,X.shape[1]))\n",
    "    theta2 = thetas[hl_sz*(X.shape[1]):].reshape((ol_sz,hl_sz+1)) \n",
    "    \n",
    "    # Initialize delta terms to 0\n",
    "    delsum_1=0\n",
    "    delsum_2=0\n",
    "    for i in range(0,m): #sum over the number of samples\n",
    "        a_1=np.transpose(X[i,:])\n",
    "        # Calculate layer 2\n",
    "        z_2 = np.matmul(X[i,:], np.transpose(theta1)) #1by401 times 401by25matrix -> 1by25\n",
    "        a_2 = sigmoid(z_2) #1by25\n",
    "        a_2 = np.transpose(a_2) #25by1\n",
    "        # Add bias term of ones\n",
    "        a_2 = np.concatenate((np.ones((1,)),a_2),axis=0) #26by1\n",
    "        # Calculate layer 3\n",
    "        z_3 = np.matmul(np.transpose(a_2),np.transpose(theta2)) #1by26 x 26by10 = 1by10\n",
    "        a_3 = np.transpose(sigmoid(z_3)) #10by1\n",
    "        \n",
    "        ynew = reparam_y(y,ol_sz,m)\n",
    "        \n",
    "        #Set delta for output layer\n",
    "        del_3=a_3-np.transpose(ynew[i,:]) #10 elements column vector \n",
    "        \n",
    "        #Sigmoid gradient, add 0; set-up for del2\n",
    "        sigGrad=np.concatenate((np.zeros((1,)),np.transpose(sigmoidgrad(z_2))),axis=0); #26by1\n",
    "        \n",
    "        #Delta 2\n",
    "        del_2=np.matmul(np.transpose(theta2),del_3)*sigGrad; #26by1\n",
    "        \n",
    "        #Sum the deltas; need to remove the bias unit\n",
    "        #reshape\n",
    "        delsum_1=delsum_1+np.matmul(del_2[1:].reshape((-1,1)),X[i,:].reshape((1, -1))) #25by1 x 1by401 -> 25by401\n",
    "        delsum_2=delsum_2+np.matmul(del_3.reshape((-1,1)),np.transpose(a_2).reshape((1,-1))) #10by26\n",
    "        \n",
    "    #Define gradients of theta - outside of for loop\n",
    "    theta1_grad=delsum_1/float(m); #25 by 401\n",
    "    theta2_grad=delsum_2/float(m); #10 by 26\n",
    "    #Regularized versions; don't do this for bias term\n",
    "    theta1_grad[:,1:]=theta1_grad[:,1:]+float(lam/m)*theta1[:,1:];\n",
    "    theta2_grad[:,1:]=theta2_grad[:,1:]+float(lam/m)*theta2[:,1:];\n",
    "    \n",
    "    return np.concatenate((theta1_grad.flatten(),theta2_grad.flatten()))"
   ]
  },
  {
   "cell_type": "code",
   "execution_count": 38,
   "metadata": {},
   "outputs": [
    {
     "name": "stdout",
     "output_type": "stream",
     "text": [
      "Warning: Maximum number of iterations has been exceeded.\n",
      "         Current function value: 0.843900\n",
      "         Iterations: 15\n",
      "         Function evaluations: 30\n",
      "         Gradient evaluations: 30\n"
     ]
    }
   ],
   "source": [
    "# Optimize using fmin_cg optimizer\n",
    "#sio.optimize.fmin_cg\n",
    "optresult = optimize.fmin_cg(fpnn_cost,thetas_oned,fprime=backprop, args=(Xtrain_ab, ytrain_a, hl_size, ol_size, numsam, lam_reg),maxiter=15)"
   ]
  },
  {
   "cell_type": "code",
   "execution_count": 39,
   "metadata": {},
   "outputs": [
    {
     "data": {
      "text/plain": [
       "array([ 0.25817466, -0.09112299, -0.06355436, ..., -1.1699625 ,\n",
       "        0.02387574, -1.38296919])"
      ]
     },
     "execution_count": 39,
     "metadata": {},
     "output_type": "execute_result"
    }
   ],
   "source": [
    "optresult"
   ]
  },
  {
   "cell_type": "code",
   "execution_count": 40,
   "metadata": {},
   "outputs": [],
   "source": [
    "# Check accuracy of NN optimization\n",
    "def predict_nn(theta1, theta2, X, y, m, ol_sz):\n",
    "    temp1 = np.matmul(X,np.transpose(theta1)) #4000by401 x 401by25 -> 4000by25\n",
    "    h1 = sigmoid(temp1);\n",
    "    #Add bias term to h1\n",
    "    temp2 = np.concatenate((np.ones((h1.shape[0],1)),h1),axis=1) #4000by26\n",
    "    temp3 = np.matmul(temp2,np.transpose(theta2)) #4000by26 x 26by10 -> 4000by10\n",
    "    h2 = sigmoid(temp3);\n",
    "    \n",
    "    #Check accuracy\n",
    "    ind_max = h2.argmax(axis=1) # indices of the max of each row = class with highest probability\n",
    "    ind_max[ind_max == 0] = 10 #Convert back from 0 to 10\n",
    "    accur = np.mean(1*(ind_max == y))\n",
    "    return accur"
   ]
  },
  {
   "cell_type": "code",
   "execution_count": 41,
   "metadata": {},
   "outputs": [],
   "source": [
    "#Reshape thetas from opt_result\n",
    "theta1_r = optresult[0:hl_size*(Xtrain_ab.shape[1])].reshape((hl_size,Xtrain_ab.shape[1]))\n",
    "theta2_r = optresult[hl_size*(Xtrain_ab.shape[1]):].reshape((ol_size,hl_size+1)) "
   ]
  },
  {
   "cell_type": "code",
   "execution_count": 45,
   "metadata": {},
   "outputs": [
    {
     "data": {
      "text/plain": [
       "0.8915"
      ]
     },
     "execution_count": 45,
     "metadata": {},
     "output_type": "execute_result"
    }
   ],
   "source": [
    "#Training accuracy\n",
    "predict_nn(theta1_r,theta2_r,Xtrain_ab,ytrain_a,numsam,ol_size)"
   ]
  },
  {
   "cell_type": "code",
   "execution_count": 43,
   "metadata": {},
   "outputs": [],
   "source": [
    "# Add bias term to Xcv_a\n",
    "Xcv_ab = np.concatenate((np.ones((Xcv_a.shape[0],1)),Xcv_a),axis=1)"
   ]
  },
  {
   "cell_type": "code",
   "execution_count": 49,
   "metadata": {},
   "outputs": [],
   "source": [
    "#Cross-validation accuracy\n",
    "CVtest = predict_nn(theta1_r,theta2_r,Xcv_ab,ycv_a,ycv_a.size,ol_size)"
   ]
  },
  {
   "cell_type": "code",
   "execution_count": 50,
   "metadata": {},
   "outputs": [
    {
     "name": "stdout",
     "output_type": "stream",
     "text": [
      "CV Accuracy = 0.880\n"
     ]
    }
   ],
   "source": [
    "print ('CV Accuracy = %1.3f' % CVtest)"
   ]
  },
  {
   "cell_type": "code",
   "execution_count": 57,
   "metadata": {},
   "outputs": [
    {
     "name": "stdout",
     "output_type": "stream",
     "text": [
      "Warning: Maximum number of iterations has been exceeded.\n",
      "         Current function value: 0.843900\n",
      "         Iterations: 15\n",
      "         Function evaluations: 30\n",
      "         Gradient evaluations: 30\n",
      "Training Accuracy = 0.891\n",
      "CV Accuracy = 0.880\n",
      "Warning: Maximum number of iterations has been exceeded.\n",
      "         Current function value: 0.622616\n",
      "         Iterations: 25\n",
      "         Function evaluations: 53\n",
      "         Gradient evaluations: 53\n",
      "Training Accuracy = 0.929\n",
      "CV Accuracy = 0.915\n",
      "Warning: Maximum number of iterations has been exceeded.\n",
      "         Current function value: 0.539880\n",
      "         Iterations: 35\n",
      "         Function evaluations: 75\n",
      "         Gradient evaluations: 75\n",
      "Training Accuracy = 0.947\n",
      "CV Accuracy = 0.926\n",
      "Warning: Maximum number of iterations has been exceeded.\n",
      "         Current function value: 0.402210\n",
      "         Iterations: 70\n",
      "         Function evaluations: 155\n",
      "         Gradient evaluations: 155\n",
      "Training Accuracy = 0.981\n",
      "CV Accuracy = 0.929\n"
     ]
    }
   ],
   "source": [
    "# Check accuracy as a function of iterations\n",
    "iters_test = [15, 25, 35, 70]\n",
    "Acc_re = np.zeros((4,2)) # Store accuracy results\n",
    "for i in range(0,4):\n",
    "    optresult = optimize.fmin_cg(fpnn_cost,thetas_oned,fprime=backprop, args=(Xtrain_ab, ytrain_a, hl_size, ol_size, numsam, lam_reg),maxiter=iters_test[i])\n",
    "    #Reshape thetas from opt_result\n",
    "    theta1_r = optresult[0:hl_size*(Xtrain_ab.shape[1])].reshape((hl_size,Xtrain_ab.shape[1]))\n",
    "    theta2_r = optresult[hl_size*(Xtrain_ab.shape[1]):].reshape((ol_size,hl_size+1)) \n",
    "    #Training accuracy\n",
    "    Acc_re[i,0] = predict_nn(theta1_r,theta2_r,Xtrain_ab,ytrain_a,numsam,ol_size)\n",
    "    #Cross-validation accuracy\n",
    "    Acc_re[i,1] = predict_nn(theta1_r,theta2_r,Xcv_ab,ycv_a,ycv_a.size,ol_size)\n",
    "    print ('Training Accuracy = %1.3f' % Acc_re[i,0])\n",
    "    print ('CV Accuracy = %1.3f' % Acc_re[i,1])\n",
    "    "
   ]
  },
  {
   "cell_type": "code",
   "execution_count": 62,
   "metadata": {},
   "outputs": [
    {
     "data": {
      "text/plain": [
       "Text(0.5, 1.0, 'Digit Classification Neural Network')"
      ]
     },
     "execution_count": 62,
     "metadata": {},
     "output_type": "execute_result"
    },
    {
     "data": {
      "image/png": "[encoded data removed]",
      "text/plain": [
       "<Figure size 432x288 with 1 Axes>"
      ]
     },
     "metadata": {
      "needs_background": "light"
     },
     "output_type": "display_data"
    }
   ],
   "source": [
    "# Plot accuracy of NN predictions as a function of iterations \n",
    "cv_plotnn = plt.scatter(iters_test, Acc_re[:,1], label = 'cv')\n",
    "train_plotnn = plt.scatter(iters_test, Acc_re[:,0], label = 'train')\n",
    "plt.legend([train_plotnn, cv_plotnn], ['training set', 'cross-validation set'])\n",
    "\n",
    "\n",
    "plt.xlabel('Iterations')\n",
    "plt.ylabel('Accuracy')\n",
    "plt.title('Digit Classification Neural Network')"
   ]
  },
  {
   "cell_type": "code",
   "execution_count": null,
   "metadata": {},
   "outputs": [],
   "source": []
  }
 ],
 "metadata": {
  "kernelspec": {
   "display_name": "Python 3",
   "language": "python",
   "name": "python3"
  },
  "language_info": {
   "codemirror_mode": {
    "name": "ipython",
    "version": 3
   },
   "file_extension": ".py",
   "mimetype": "text/x-python",
   "name": "python",
   "nbconvert_exporter": "python",
   "pygments_lexer": "ipython3",
   "version": "3.7.1"
  }
 },
 "nbformat": 4,
 "nbformat_minor": 2
}
