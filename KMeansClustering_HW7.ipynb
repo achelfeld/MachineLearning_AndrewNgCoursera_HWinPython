{
 "cells": [
  {
   "cell_type": "code",
   "execution_count": 1,
   "metadata": {},
   "outputs": [],
   "source": [
    "# Written by Anna C Helfeld C\n",
    "# Fall 2018-Winter 2019\n",
    "\n",
    "# This code uses my solutions written in Octave/Matlab as a guide\n",
    "# Machine Learning (Andrew Ng class on Coursera)\n",
    "# Homework 7, part I: K-means clustering"
   ]
  },
  {
   "cell_type": "code",
   "execution_count": 2,
   "metadata": {},
   "outputs": [],
   "source": [
    "# Import libraries\n",
    "from pandas import *\n",
    "import matplotlib as mpl\n",
    "import matplotlib.pyplot as plt\n",
    "import numpy as np\n",
    "import scipy.io as sio\n",
    "import math as mth"
   ]
  },
  {
   "cell_type": "code",
   "execution_count": 3,
   "metadata": {},
   "outputs": [],
   "source": [
    "# Load data\n",
    "import h5py \n",
    "dataset = sio.loadmat('ex7data2.mat')"
   ]
  },
  {
   "cell_type": "code",
   "execution_count": 4,
   "metadata": {},
   "outputs": [],
   "source": [
    "# Put X and y data into arrays\n",
    "Xdata = dataset['X']"
   ]
  },
  {
   "cell_type": "code",
   "execution_count": 5,
   "metadata": {},
   "outputs": [],
   "source": [
    "# Set number of centroids\n",
    "K = 3"
   ]
  },
  {
   "cell_type": "code",
   "execution_count": 6,
   "metadata": {},
   "outputs": [],
   "source": [
    "# Select K random centroids\n",
    "centroids_init = Xdata[np.random.randint(Xdata.shape[0], size=K), :]\n",
    "centroids = centroids_init"
   ]
  },
  {
   "cell_type": "code",
   "execution_count": 7,
   "metadata": {},
   "outputs": [],
   "source": [
    "# Define closest centroids function\n",
    "def closecentr(X, centr, K):\n",
    "    dist=np.zeros((X.shape[0],K))\n",
    "    idx=np.zeros((X.shape[0],1))\n",
    "    for i in range(0,X.shape[0]):\n",
    "        for k in range(0,K):\n",
    "            dist[i,k] = np.sum(np.power(X[i,:]-centr[k,:],2))\n",
    "    idx = np.argmin(dist, axis=1)\n",
    "    return idx"
   ]
  },
  {
   "cell_type": "code",
   "execution_count": 8,
   "metadata": {},
   "outputs": [],
   "source": [
    "# Re-define centroids based on values assigned to it\n",
    "def setcentr(X, idx, K):\n",
    "    m = X.shape[0]\n",
    "    n = X.shape[1]\n",
    "    boolean=np.zeros((m,1))\n",
    "    centrs=np.zeros((K,n))\n",
    "    for i in range(0,K):\n",
    "        boolean=idx==i # TRUE if points are assigned to K, FALSE if not\n",
    "        centrs[i,:]=np.matmul(np.transpose(boolean),X)/sum(boolean); #1xm times mxn => 1byn\n",
    "    return centrs"
   ]
  },
  {
   "cell_type": "code",
   "execution_count": 9,
   "metadata": {},
   "outputs": [],
   "source": [
    "# Set number of iterations\n",
    "numit = 20"
   ]
  },
  {
   "cell_type": "code",
   "execution_count": 10,
   "metadata": {},
   "outputs": [],
   "source": [
    "# Run k-means clustering\n",
    "for i in range(0,numit):\n",
    "    idx = closecentr(Xdata, centroids, K)\n",
    "    centroids = setcentr(Xdata, idx, K)"
   ]
  },
  {
   "cell_type": "code",
   "execution_count": 11,
   "metadata": {},
   "outputs": [
    {
     "data": {
      "text/plain": [
       "array([[1.95399466, 5.02557006],\n",
       "       [6.03366736, 3.00052511],\n",
       "       [3.04367119, 1.01541041]])"
      ]
     },
     "execution_count": 11,
     "metadata": {},
     "output_type": "execute_result"
    }
   ],
   "source": [
    "centroids"
   ]
  },
  {
   "cell_type": "code",
   "execution_count": 12,
   "metadata": {},
   "outputs": [
    {
     "data": {
      "text/plain": [
       "Text(0.5, 1.0, 'Centroids for K-means clustering')"
      ]
     },
     "execution_count": 12,
     "metadata": {},
     "output_type": "execute_result"
    },
    {
     "data": {
      "image/png": "[encoded data removed]",
      "text/plain": [
       "<Figure size 432x288 with 1 Axes>"
      ]
     },
     "metadata": {
      "needs_background": "light"
     },
     "output_type": "display_data"
    }
   ],
   "source": [
    "# Plot X with centroids \n",
    "X_plot = plt.scatter(Xdata[:,0], Xdata[:,1])\n",
    "centrs_plot = plt.scatter(centroids[:,0], centroids[:,1])\n",
    "centrsIn_plot = plt.scatter(centroids_init[:,0], centroids_init[:,1])\n",
    "plt.legend([X_plot, centrs_plot, centrsIn_plot], ['Data', 'Centroids Final', 'Centroids Initial'])\n",
    "\n",
    "\n",
    "plt.xlabel('X1')\n",
    "plt.ylabel('X2')\n",
    "plt.title('Centroids for K-means clustering')"
   ]
  },
  {
   "cell_type": "code",
   "execution_count": null,
   "metadata": {},
   "outputs": [],
   "source": []
  }
 ],
 "metadata": {
  "kernelspec": {
   "display_name": "Python 2",
   "language": "python",
   "name": "python2"
  },
  "language_info": {
   "codemirror_mode": {
    "name": "ipython",
    "version": 2
   },
   "file_extension": ".py",
   "mimetype": "text/x-python",
   "name": "python",
   "nbconvert_exporter": "python",
   "pygments_lexer": "ipython2",
   "version": "2.7.15"
  }
 },
 "nbformat": 4,
 "nbformat_minor": 2
}
