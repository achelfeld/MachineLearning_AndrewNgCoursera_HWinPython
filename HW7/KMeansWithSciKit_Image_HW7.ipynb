{
 "cells": [
  {
   "cell_type": "code",
   "execution_count": 58,
   "metadata": {},
   "outputs": [],
   "source": [
    "# Written by Anna C Helfeld C\n",
    "# Fall 2018-Winter 2019\n",
    "\n",
    "# This code uses my solutions written in Octave/Matlab as a guide\n",
    "# Machine Learning (Andrew Ng class on Coursera)\n",
    "# Homework 7, part I: K-means clustering - this time with built-in kmeans in scikit"
   ]
  },
  {
   "cell_type": "code",
   "execution_count": 98,
   "metadata": {},
   "outputs": [],
   "source": [
    "# Import libraries\n",
    "from pandas import *\n",
    "import matplotlib as mpl\n",
    "import matplotlib.pyplot as plt\n",
    "import numpy as np\n",
    "import scipy.io as sio\n",
    "import math as mth\n",
    "from sklearn.cluster import KMeans\n",
    "import imageio\n",
    "from scipy.misc import imsave"
   ]
  },
  {
   "cell_type": "code",
   "execution_count": 60,
   "metadata": {},
   "outputs": [],
   "source": [
    "im = imageio.imread('bird_small.png')"
   ]
  },
  {
   "cell_type": "code",
   "execution_count": 61,
   "metadata": {},
   "outputs": [
    {
     "data": {
      "text/plain": [
       "Array([[219, 180, 103],\n",
       "       [230, 185, 116],\n",
       "       [226, 186, 110],\n",
       "       ...,\n",
       "       [ 65,  43,  39],\n",
       "       [ 58,  37,  38],\n",
       "       [ 52,  39,  34]], dtype=uint8)"
      ]
     },
     "execution_count": 61,
     "metadata": {},
     "output_type": "execute_result"
    }
   ],
   "source": [
    "Xdata = im.reshape((im.shape[0]*im.shape[1], im.shape[2]))\n",
    "Xdata"
   ]
  },
  {
   "cell_type": "code",
   "execution_count": 100,
   "metadata": {},
   "outputs": [],
   "source": [
    "# Set number of centroids\n",
    "K = 8\n",
    "# Set number of initial centroids to test\n",
    "init_test = 12"
   ]
  },
  {
   "cell_type": "code",
   "execution_count": 101,
   "metadata": {},
   "outputs": [],
   "source": [
    "# Used k-means ++ to optimize convergence, rather than random selection of centroids\n",
    "kmeans = KMeans(n_clusters=K, init='k-means++', n_init = init_test, max_iter = 20).fit(Xdata)"
   ]
  },
  {
   "cell_type": "code",
   "execution_count": 102,
   "metadata": {},
   "outputs": [],
   "source": [
    "centroids_opt = kmeans.cluster_centers_\n",
    "labels_cent = kmeans.labels_"
   ]
  },
  {
   "cell_type": "code",
   "execution_count": 103,
   "metadata": {},
   "outputs": [],
   "source": [
    "# re-assign X\n",
    "Xtransf = np.zeros((Xdata.shape[0],Xdata.shape[1]))\n",
    "for i in range(0,Xdata.shape[0]):\n",
    "    Xtransf[i,:] = centroids_opt[labels_cent[i],:]\n",
    "    \n",
    "# reshape\n",
    "Xtransf_im = Xtransf.reshape((im.shape[0],im.shape[1],im.shape[2]))"
   ]
  },
  {
   "cell_type": "code",
   "execution_count": 104,
   "metadata": {},
   "outputs": [
    {
     "name": "stderr",
     "output_type": "stream",
     "text": [
      "C:\\Users\\Anna\\Anaconda2\\envs\\py37\\lib\\site-packages\\ipykernel_launcher.py:1: DeprecationWarning: `imsave` is deprecated!\n",
      "`imsave` is deprecated in SciPy 1.0.0, and will be removed in 1.2.0.\n",
      "Use ``imageio.imwrite`` instead.\n",
      "  \"\"\"Entry point for launching an IPython kernel.\n"
     ]
    }
   ],
   "source": [
    "imsave('bird_transf.png', Xtransf_im)"
   ]
  },
  {
   "cell_type": "code",
   "execution_count": null,
   "metadata": {},
   "outputs": [],
   "source": []
  }
 ],
 "metadata": {
  "kernelspec": {
   "display_name": "Python 3",
   "language": "python",
   "name": "python3"
  },
  "language_info": {
   "codemirror_mode": {
    "name": "ipython",
    "version": 3
   },
   "file_extension": ".py",
   "mimetype": "text/x-python",
   "name": "python",
   "nbconvert_exporter": "python",
   "pygments_lexer": "ipython3",
   "version": "3.7.1"
  }
 },
 "nbformat": 4,
 "nbformat_minor": 2
}
