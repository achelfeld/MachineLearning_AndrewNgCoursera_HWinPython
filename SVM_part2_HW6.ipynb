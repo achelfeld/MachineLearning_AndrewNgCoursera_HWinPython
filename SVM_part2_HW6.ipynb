{
 "cells": [
  {
   "cell_type": "code",
   "execution_count": 5,
   "metadata": {},
   "outputs": [],
   "source": [
    "# Written by Anna C Helfeld C\n",
    "# Fall 2018-Winter 2019\n",
    "\n",
    "# This code uses my solutions written in Octave/Matlab as a guide\n",
    "# Machine Learning (Andrew Ng class on Coursera)\n",
    "# Homework 6: Support Vector Machines "
   ]
  },
  {
   "cell_type": "code",
   "execution_count": 22,
   "metadata": {},
   "outputs": [],
   "source": [
    "# Import libraries\n",
    "from pandas import *\n",
    "import matplotlib as mpl\n",
    "import matplotlib.pyplot as plt\n",
    "import numpy as np\n",
    "import scipy.io as sio\n",
    "import math as mth\n",
    "from sklearn.svm import SVC"
   ]
  },
  {
   "cell_type": "code",
   "execution_count": 23,
   "metadata": {},
   "outputs": [],
   "source": [
    "# Load data\n",
    "import h5py \n",
    "dataset1 = sio.loadmat('ex6data1.mat') \n",
    "dataset2 = sio.loadmat('ex6data2.mat') \n",
    "dataset3 = sio.loadmat('ex6data3.mat') "
   ]
  },
  {
   "cell_type": "code",
   "execution_count": 24,
   "metadata": {},
   "outputs": [],
   "source": [
    "# Put X and y data into arrays\n",
    "Xdata = dataset2['X']\n",
    "ydata = dataset2['y']\n",
    "Alldata = np.concatenate((Xdata,ydata), axis=1)"
   ]
  },
  {
   "cell_type": "code",
   "execution_count": 25,
   "metadata": {},
   "outputs": [
    {
     "data": {
      "text/html": [
       "<div>\n",
       "<style scoped>\n",
       "    .dataframe tbody tr th:only-of-type {\n",
       "        vertical-align: middle;\n",
       "    }\n",
       "\n",
       "    .dataframe tbody tr th {\n",
       "        vertical-align: top;\n",
       "    }\n",
       "\n",
       "    .dataframe thead th {\n",
       "        text-align: right;\n",
       "    }\n",
       "</style>\n",
       "<table border=\"1\" class=\"dataframe\">\n",
       "  <thead>\n",
       "    <tr style=\"text-align: right;\">\n",
       "      <th></th>\n",
       "      <th>0</th>\n",
       "      <th>1</th>\n",
       "      <th>2</th>\n",
       "    </tr>\n",
       "  </thead>\n",
       "  <tbody>\n",
       "    <tr>\n",
       "      <th>0</th>\n",
       "      <td>0.107143</td>\n",
       "      <td>0.603070</td>\n",
       "      <td>1.0</td>\n",
       "    </tr>\n",
       "    <tr>\n",
       "      <th>1</th>\n",
       "      <td>0.093318</td>\n",
       "      <td>0.649854</td>\n",
       "      <td>1.0</td>\n",
       "    </tr>\n",
       "    <tr>\n",
       "      <th>2</th>\n",
       "      <td>0.097926</td>\n",
       "      <td>0.705409</td>\n",
       "      <td>1.0</td>\n",
       "    </tr>\n",
       "    <tr>\n",
       "      <th>3</th>\n",
       "      <td>0.155530</td>\n",
       "      <td>0.784357</td>\n",
       "      <td>1.0</td>\n",
       "    </tr>\n",
       "    <tr>\n",
       "      <th>4</th>\n",
       "      <td>0.210829</td>\n",
       "      <td>0.866228</td>\n",
       "      <td>1.0</td>\n",
       "    </tr>\n",
       "  </tbody>\n",
       "</table>\n",
       "</div>"
      ],
      "text/plain": [
       "          0         1    2\n",
       "0  0.107143  0.603070  1.0\n",
       "1  0.093318  0.649854  1.0\n",
       "2  0.097926  0.705409  1.0\n",
       "3  0.155530  0.784357  1.0\n",
       "4  0.210829  0.866228  1.0"
      ]
     },
     "execution_count": 25,
     "metadata": {},
     "output_type": "execute_result"
    }
   ],
   "source": [
    "Alldatadf = DataFrame(data=Alldata)  #Put data into data frame\n",
    "Alldatadf.head()"
   ]
  },
  {
   "cell_type": "code",
   "execution_count": 26,
   "metadata": {},
   "outputs": [
    {
     "data": {
      "text/html": [
       "<div>\n",
       "<style scoped>\n",
       "    .dataframe tbody tr th:only-of-type {\n",
       "        vertical-align: middle;\n",
       "    }\n",
       "\n",
       "    .dataframe tbody tr th {\n",
       "        vertical-align: top;\n",
       "    }\n",
       "\n",
       "    .dataframe thead th {\n",
       "        text-align: right;\n",
       "    }\n",
       "</style>\n",
       "<table border=\"1\" class=\"dataframe\">\n",
       "  <thead>\n",
       "    <tr style=\"text-align: right;\">\n",
       "      <th></th>\n",
       "      <th>0</th>\n",
       "      <th>1</th>\n",
       "      <th>2</th>\n",
       "    </tr>\n",
       "  </thead>\n",
       "  <tbody>\n",
       "    <tr>\n",
       "      <th>717</th>\n",
       "      <td>0.185484</td>\n",
       "      <td>0.511404</td>\n",
       "      <td>1.0</td>\n",
       "    </tr>\n",
       "    <tr>\n",
       "      <th>237</th>\n",
       "      <td>0.388249</td>\n",
       "      <td>0.822368</td>\n",
       "      <td>0.0</td>\n",
       "    </tr>\n",
       "    <tr>\n",
       "      <th>427</th>\n",
       "      <td>0.701613</td>\n",
       "      <td>0.510965</td>\n",
       "      <td>1.0</td>\n",
       "    </tr>\n",
       "    <tr>\n",
       "      <th>585</th>\n",
       "      <td>0.229263</td>\n",
       "      <td>0.567105</td>\n",
       "      <td>1.0</td>\n",
       "    </tr>\n",
       "    <tr>\n",
       "      <th>736</th>\n",
       "      <td>0.215438</td>\n",
       "      <td>0.516667</td>\n",
       "      <td>1.0</td>\n",
       "    </tr>\n",
       "  </tbody>\n",
       "</table>\n",
       "</div>"
      ],
      "text/plain": [
       "            0         1    2\n",
       "717  0.185484  0.511404  1.0\n",
       "237  0.388249  0.822368  0.0\n",
       "427  0.701613  0.510965  1.0\n",
       "585  0.229263  0.567105  1.0\n",
       "736  0.215438  0.516667  1.0"
      ]
     },
     "execution_count": 26,
     "metadata": {},
     "output_type": "execute_result"
    }
   ],
   "source": [
    "Alldatadf_ran = Alldatadf.sample(frac=1) #randomize data\n",
    "Alldatadf_ran.head() #check "
   ]
  },
  {
   "cell_type": "code",
   "execution_count": 27,
   "metadata": {},
   "outputs": [],
   "source": [
    "# For plotting purposes\n",
    "neg = Alldatadf_ran[Alldatadf_ran.iloc[:,2] == 0]    # segment the data into pos and neg class\n",
    "pos = Alldatadf_ran[Alldatadf_ran.iloc[:,2] == 1]  "
   ]
  },
  {
   "cell_type": "code",
   "execution_count": 28,
   "metadata": {},
   "outputs": [],
   "source": [
    "# Split into training data and cross-validation data\n",
    "Xtrain = Alldatadf_ran.iloc[0:mth.floor(Alldatadf_ran.shape[0]*0.8),0:-1]\n",
    "ytrain = Alldatadf_ran.iloc[0:mth.floor(Alldatadf_ran.shape[0]*0.8),-1]\n",
    "\n",
    "Xcv = Alldatadf_ran.iloc[mth.floor(Alldatadf_ran.shape[0]*0.8):Alldatadf_ran.shape[0],0:-1]\n",
    "ycv = Alldatadf_ran.iloc[mth.floor(Alldatadf_ran.shape[0]*0.8):Alldatadf_ran.shape[0],-1]"
   ]
  },
  {
   "cell_type": "code",
   "execution_count": 29,
   "metadata": {},
   "outputs": [],
   "source": [
    "# Put into arrays\n",
    "Xtrain_a = Xtrain.values\n",
    "ytrain_a = ytrain.values\n",
    "Xcv_a = Xcv.values\n",
    "ycv_a = ycv.values"
   ]
  },
  {
   "cell_type": "code",
   "execution_count": 66,
   "metadata": {},
   "outputs": [],
   "source": [
    "# Train using RBF aka Gaussian kernel\n",
    "clf = SVC(C=10, kernel = 'rbf', max_iter = 2000, gamma = 'auto').fit(Xtrain_a,ytrain_a)"
   ]
  },
  {
   "cell_type": "code",
   "execution_count": 67,
   "metadata": {},
   "outputs": [
    {
     "data": {
      "text/plain": [
       "<matplotlib.collections.PathCollection at 0x2208cfcbfd0>"
      ]
     },
     "execution_count": 67,
     "metadata": {},
     "output_type": "execute_result"
    },
    {
     "data": {
      "image/png": "[encoded data removed]",
      "text/plain": [
       "<Figure size 432x288 with 1 Axes>"
      ]
     },
     "metadata": {
      "needs_background": "light"
     },
     "output_type": "display_data"
    }
   ],
   "source": [
    "# Plot data to see what it looks like\n",
    "pos_plot = plt.scatter(pos.values[:,0], pos.values[:,1])\n",
    "neg_plot = plt.scatter(neg.values[:,0], neg.values[:,1])\n",
    "plt.scatter(Xcv_a[:,0],Xcv_a[:,1])"
   ]
  },
  {
   "cell_type": "code",
   "execution_count": 68,
   "metadata": {},
   "outputs": [
    {
     "data": {
      "text/plain": [
       "0.8265895953757225"
      ]
     },
     "execution_count": 68,
     "metadata": {},
     "output_type": "execute_result"
    }
   ],
   "source": [
    "#Check accuracy of grouping with cross-validation set\n",
    "1-sum(np.absolute(clf.predict(Xcv_a)-ycv_a))/ycv_a.size"
   ]
  },
  {
   "cell_type": "code",
   "execution_count": 69,
   "metadata": {},
   "outputs": [
    {
     "data": {
      "text/plain": [
       "0.8265895953757225"
      ]
     },
     "execution_count": 69,
     "metadata": {},
     "output_type": "execute_result"
    }
   ],
   "source": [
    "# Same thing with built-in function score\n",
    "clf.score(Xcv_a, ycv_a)"
   ]
  },
  {
   "cell_type": "code",
   "execution_count": 70,
   "metadata": {},
   "outputs": [
    {
     "data": {
      "text/plain": [
       "0.8115942028985508"
      ]
     },
     "execution_count": 70,
     "metadata": {},
     "output_type": "execute_result"
    }
   ],
   "source": [
    "# Same thing with built-in function score\n",
    "clf.score(Xtrain_a, ytrain_a)"
   ]
  },
  {
   "cell_type": "code",
   "execution_count": null,
   "metadata": {},
   "outputs": [],
   "source": []
  }
 ],
 "metadata": {
  "kernelspec": {
   "display_name": "Python 2",
   "language": "python",
   "name": "python2"
  },
  "language_info": {
   "codemirror_mode": {
    "name": "ipython",
    "version": 2
   },
   "file_extension": ".py",
   "mimetype": "text/x-python",
   "name": "python",
   "nbconvert_exporter": "python",
   "pygments_lexer": "ipython2",
   "version": "2.7.15"
  }
 },
 "nbformat": 4,
 "nbformat_minor": 2
}
