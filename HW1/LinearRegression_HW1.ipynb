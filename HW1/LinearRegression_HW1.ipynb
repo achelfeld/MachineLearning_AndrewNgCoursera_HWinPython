{
 "cells": [
  {
   "cell_type": "code",
   "execution_count": 3,
   "metadata": {},
   "outputs": [],
   "source": [
    "# Written by Anna C Helfeld C\n",
    "# Fall 2018-Winter 2019\n",
    "\n",
    "# This code uses my solutions written in Octave/Matlab as a guide\n",
    "# Machine Learning (Andrew Ng class on Coursera)\n",
    "# Homework 1: Linear Regression"
   ]
  },
  {
   "cell_type": "code",
   "execution_count": 219,
   "metadata": {},
   "outputs": [],
   "source": [
    "# Import libraries\n",
    "from pandas import *\n",
    "import matplotlib as mpl\n",
    "import matplotlib.pyplot as plt\n",
    "import numpy as np\n",
    "from sklearn import datasets, linear_model"
   ]
  },
  {
   "cell_type": "code",
   "execution_count": 132,
   "metadata": {},
   "outputs": [
    {
     "data": {
      "text/html": [
       "<div>\n",
       "<style scoped>\n",
       "    .dataframe tbody tr th:only-of-type {\n",
       "        vertical-align: middle;\n",
       "    }\n",
       "\n",
       "    .dataframe tbody tr th {\n",
       "        vertical-align: top;\n",
       "    }\n",
       "\n",
       "    .dataframe thead th {\n",
       "        text-align: right;\n",
       "    }\n",
       "</style>\n",
       "<table border=\"1\" class=\"dataframe\">\n",
       "  <thead>\n",
       "    <tr style=\"text-align: right;\">\n",
       "      <th></th>\n",
       "      <th>0</th>\n",
       "      <th>1</th>\n",
       "      <th>2</th>\n",
       "    </tr>\n",
       "  </thead>\n",
       "  <tbody>\n",
       "    <tr>\n",
       "      <th>0</th>\n",
       "      <td>2104</td>\n",
       "      <td>3</td>\n",
       "      <td>399900</td>\n",
       "    </tr>\n",
       "    <tr>\n",
       "      <th>1</th>\n",
       "      <td>1600</td>\n",
       "      <td>3</td>\n",
       "      <td>329900</td>\n",
       "    </tr>\n",
       "    <tr>\n",
       "      <th>2</th>\n",
       "      <td>2400</td>\n",
       "      <td>3</td>\n",
       "      <td>369000</td>\n",
       "    </tr>\n",
       "    <tr>\n",
       "      <th>3</th>\n",
       "      <td>1416</td>\n",
       "      <td>2</td>\n",
       "      <td>232000</td>\n",
       "    </tr>\n",
       "    <tr>\n",
       "      <th>4</th>\n",
       "      <td>3000</td>\n",
       "      <td>4</td>\n",
       "      <td>539900</td>\n",
       "    </tr>\n",
       "  </tbody>\n",
       "</table>\n",
       "</div>"
      ],
      "text/plain": [
       "      0  1       2\n",
       "0  2104  3  399900\n",
       "1  1600  3  329900\n",
       "2  2400  3  369000\n",
       "3  1416  2  232000\n",
       "4  3000  4  539900"
      ]
     },
     "execution_count": 132,
     "metadata": {},
     "output_type": "execute_result"
    }
   ],
   "source": [
    "# Load house data\n",
    "house_prices  = read_csv(\"ex1data2.txt\",header=None)\n",
    "house_prices.head() #check it looks ok"
   ]
  },
  {
   "cell_type": "code",
   "execution_count": 133,
   "metadata": {},
   "outputs": [],
   "source": [
    "hp_mean = house_prices.mean()\n",
    "hp_std = house_prices.std()"
   ]
  },
  {
   "cell_type": "code",
   "execution_count": 134,
   "metadata": {},
   "outputs": [],
   "source": [
    "# Normalize the data\n",
    "ncols = len(house_prices.columns)\n",
    "def normalize(group, mean, std):\n",
    "    return (group - mean) / std\n",
    "hp_norm = normalize(house_prices, hp_mean, hp_std)"
   ]
  },
  {
   "cell_type": "code",
   "execution_count": 135,
   "metadata": {},
   "outputs": [
    {
     "data": {
      "text/html": [
       "<div>\n",
       "<style scoped>\n",
       "    .dataframe tbody tr th:only-of-type {\n",
       "        vertical-align: middle;\n",
       "    }\n",
       "\n",
       "    .dataframe tbody tr th {\n",
       "        vertical-align: top;\n",
       "    }\n",
       "\n",
       "    .dataframe thead th {\n",
       "        text-align: right;\n",
       "    }\n",
       "</style>\n",
       "<table border=\"1\" class=\"dataframe\">\n",
       "  <thead>\n",
       "    <tr style=\"text-align: right;\">\n",
       "      <th></th>\n",
       "      <th>area</th>\n",
       "      <th>bedrooms</th>\n",
       "      <th>price</th>\n",
       "    </tr>\n",
       "  </thead>\n",
       "  <tbody>\n",
       "    <tr>\n",
       "      <th>0</th>\n",
       "      <td>0.130010</td>\n",
       "      <td>-0.223675</td>\n",
       "      <td>0.475747</td>\n",
       "    </tr>\n",
       "    <tr>\n",
       "      <th>1</th>\n",
       "      <td>-0.504190</td>\n",
       "      <td>-0.223675</td>\n",
       "      <td>-0.084074</td>\n",
       "    </tr>\n",
       "    <tr>\n",
       "      <th>2</th>\n",
       "      <td>0.502476</td>\n",
       "      <td>-0.223675</td>\n",
       "      <td>0.228626</td>\n",
       "    </tr>\n",
       "    <tr>\n",
       "      <th>3</th>\n",
       "      <td>-0.735723</td>\n",
       "      <td>-1.537767</td>\n",
       "      <td>-0.867025</td>\n",
       "    </tr>\n",
       "    <tr>\n",
       "      <th>4</th>\n",
       "      <td>1.257476</td>\n",
       "      <td>1.090417</td>\n",
       "      <td>1.595389</td>\n",
       "    </tr>\n",
       "  </tbody>\n",
       "</table>\n",
       "</div>"
      ],
      "text/plain": [
       "       area  bedrooms     price\n",
       "0  0.130010 -0.223675  0.475747\n",
       "1 -0.504190 -0.223675 -0.084074\n",
       "2  0.502476 -0.223675  0.228626\n",
       "3 -0.735723 -1.537767 -0.867025\n",
       "4  1.257476  1.090417  1.595389"
      ]
     },
     "execution_count": 135,
     "metadata": {},
     "output_type": "execute_result"
    }
   ],
   "source": [
    "hp_norm.columns = ['area','bedrooms','price']\n",
    "hp_norm.head()# Check to make sure norm data looks okay"
   ]
  },
  {
   "cell_type": "code",
   "execution_count": 146,
   "metadata": {},
   "outputs": [
    {
     "data": {
      "text/plain": [
       "(47L, 1L)"
      ]
     },
     "execution_count": 146,
     "metadata": {},
     "output_type": "execute_result"
    }
   ],
   "source": [
    "# Convert to numpy arrays and split into X and y\n",
    "y_m = hp_norm.values[:,-1]\n",
    "X_m = hp_norm.values[:,0:2]\n",
    "X_m = np.insert(X_m,0,1,axis=1) # insert bias term\n",
    "y_m.shape=(y_m.size,1) # make sure shape is correct\n",
    "y_m.shape # Check dimensions"
   ]
  },
  {
   "cell_type": "code",
   "execution_count": 126,
   "metadata": {},
   "outputs": [
    {
     "data": {
      "text/plain": [
       "array([-5.10702591e-15,  3.93294293e+01,  2.03440114e+01])"
      ]
     },
     "execution_count": 126,
     "metadata": {},
     "output_type": "execute_result"
    }
   ],
   "source": [
    "# np.matmul(np.transpose(X_m),y_m) #testing"
   ]
  },
  {
   "cell_type": "code",
   "execution_count": 46,
   "metadata": {},
   "outputs": [
    {
     "data": {
      "text/plain": [
       "array([[0.],\n",
       "       [0.],\n",
       "       [0.]])"
      ]
     },
     "execution_count": 46,
     "metadata": {},
     "output_type": "execute_result"
    }
   ],
   "source": [
    "#np.zeros((3,1))-np.transpose(np.matmul(np.transpose(np.matmul(X_m,np.zeros((3,1)))),X_m)) #testing"
   ]
  },
  {
   "cell_type": "code",
   "execution_count": 95,
   "metadata": {},
   "outputs": [
    {
     "data": {
      "text/plain": [
       "0.02127659574468085"
      ]
     },
     "execution_count": 95,
     "metadata": {},
     "output_type": "execute_result"
    }
   ],
   "source": [
    "#1/float(y_m.size) #testing"
   ]
  },
  {
   "cell_type": "code",
   "execution_count": 108,
   "metadata": {
    "scrolled": true
   },
   "outputs": [
    {
     "data": {
      "text/plain": [
       "array([[-0.47574687,  0.08407444, -0.22862575,  0.86702453, -1.59538948,\n",
       "         0.32399786,  0.20403615,  1.13094828,  1.02697347,  0.78305133,\n",
       "         0.80305294, -0.05268191,  0.08328269, -2.87498104,  0.64389575,\n",
       "        -0.87561923,  0.32399786,  1.12374258, -1.27627534, -2.06803861,\n",
       "         0.69987788,  0.68308324,  0.77985235,  0.64389575, -1.86730269,\n",
       "         0.72387022, -0.99238196, -1.02837047, -1.07635515,  0.32399786,\n",
       "        -0.0758745 ,  1.363666  ,  0.20403615, -1.91528737,  0.43596212,\n",
       "         0.72387022,  0.88381916, -0.03668701, -1.66816625,  0.42716493,\n",
       "        -0.22462702,  0.08407444,  0.21123385,  0.33119556,  1.28369153,\n",
       "         0.32399786,  0.80704367]])"
      ]
     },
     "execution_count": 108,
     "metadata": {},
     "output_type": "execute_result"
    }
   ],
   "source": [
    "# np.transpose(np.matmul(X_m,np.zeros((3,1)))-y_m) #testing"
   ]
  },
  {
   "cell_type": "code",
   "execution_count": 193,
   "metadata": {},
   "outputs": [],
   "source": [
    "# Define cost function\n",
    "def cost_function(X,y,theta):\n",
    "    temp1 = np.power((np.matmul(X,theta)-y),2)\n",
    "    J=(1/float(2*y.size))*np.sum(temp1)\n",
    "    return J"
   ]
  },
  {
   "cell_type": "code",
   "execution_count": 213,
   "metadata": {},
   "outputs": [],
   "source": [
    "# test = np.zeros((5,2))\n",
    "# test[1,0]"
   ]
  },
  {
   "cell_type": "code",
   "execution_count": 214,
   "metadata": {},
   "outputs": [],
   "source": [
    "# Linear regression function via gradient descent\n",
    "def gradient_descent_linreg(X,y,theta,alpha,num_iters):\n",
    "    Jplot=np.zeros((num_iters,2)) # set up the array for keeping track of cost function\n",
    "    for i in range(0,num_iters): \n",
    "        theta_prev = theta\n",
    "        temp1 = (1/float(y.size))*np.matmul(np.transpose(np.matmul(X,theta_prev)-y),X)\n",
    "        theta = theta_prev-alpha*np.transpose(temp1)\n",
    "        Jplot[i,0] = i\n",
    "        Jplot[i,1] = cost_function(X,y,theta) # record cost function for each iteration\n",
    "    return theta, Jplot"
   ]
  },
  {
   "cell_type": "code",
   "execution_count": 237,
   "metadata": {},
   "outputs": [],
   "source": [
    "#Check it's working, no errors\n",
    "(theta_final, Jplot) = gradient_descent_linreg(X_m,y_m,np.zeros((3, 1)),1,50)"
   ]
  },
  {
   "cell_type": "code",
   "execution_count": 256,
   "metadata": {},
   "outputs": [
    {
     "data": {
      "text/plain": [
       "<matplotlib.legend.Legend at 0x10ed76d8>"
      ]
     },
     "execution_count": 256,
     "metadata": {},
     "output_type": "execute_result"
    },
    {
     "data": {
      "image/png": "[encoded data removed]",
      "text/plain": [
       "<Figure size 432x288 with 1 Axes>"
      ]
     },
     "metadata": {
      "needs_background": "light"
     },
     "output_type": "display_data"
    }
   ],
   "source": [
    "#Try different alphas\n",
    "alpha_test = [0.1, 0.3, 1, 1.3]\n",
    "for i in range(0,4):\n",
    "    at = alpha_test[i]\n",
    "    (theta_final, Jplot) = gradient_descent_linreg(X_m,y_m,np.zeros((3, 1)),at,50)\n",
    "    plt.plot(Jplot[:,0], Jplot[:,1], label='learning rate = '+ '%.1f' % at)\n",
    "plt.xlabel('Number of Iterations')\n",
    "plt.ylabel('Cost Function')\n",
    "plot.legend(loc='upper right')"
   ]
  },
  {
   "cell_type": "code",
   "execution_count": 305,
   "metadata": {},
   "outputs": [
    {
     "data": {
      "text/plain": [
       "array([-0.4412732 , -0.22367519])"
      ]
     },
     "execution_count": 305,
     "metadata": {},
     "output_type": "execute_result"
    }
   ],
   "source": [
    "# Test on new data: Area = 1650 ft, Number of bedrooms = 3\n",
    "\n",
    "#run gradient descent using optimzed alpha and iterations\n",
    "(theta_final, Jplot) = gradient_descent_linreg(X_m,y_m,np.zeros((3, 1)),1,30)\n",
    "\n",
    "X_new = [1650, 3] # new data\n",
    "X_new_n = (X_new - hp_mean.values[0:2])/hp_std.values[0:2] #normalize\n",
    "X_new_n #check"
   ]
  },
  {
   "cell_type": "code",
   "execution_count": 306,
   "metadata": {},
   "outputs": [],
   "source": [
    "X_newn = np.append([1],X_new_n)"
   ]
  },
  {
   "cell_type": "code",
   "execution_count": 307,
   "metadata": {
    "scrolled": true
   },
   "outputs": [
    {
     "data": {
      "text/plain": [
       "array([293081.46507336])"
      ]
     },
     "execution_count": 307,
     "metadata": {},
     "output_type": "execute_result"
    }
   ],
   "source": [
    "Price_pn = np.matmul(X_newn,theta_final) #predicted price, in normalized units\n",
    "# Convert to original units\n",
    "Price_p = (Price_pn*hp_std.values[2])+hp_mean.values[2]\n",
    "Price_p"
   ]
  },
  {
   "cell_type": "code",
   "execution_count": 324,
   "metadata": {},
   "outputs": [
    {
     "data": {
      "text/plain": [
       "Text(0,0.5,'House Price')"
      ]
     },
     "execution_count": 324,
     "metadata": {},
     "output_type": "execute_result"
    },
    {
     "data": {
      "image/png": "[encoded data removed]",
      "text/plain": [
       "<Figure size 432x288 with 1 Axes>"
      ]
     },
     "metadata": {
      "needs_background": "light"
     },
     "output_type": "display_data"
    }
   ],
   "source": [
    "#Check visually along first dimension\n",
    "plt.scatter(X_m[:,1], y_m[:])\n",
    "plot.scatter(X_newn[1], Price_pn)\n",
    "plt.xlabel('Area')\n",
    "plt.ylabel('House Price')"
   ]
  },
  {
   "cell_type": "code",
   "execution_count": null,
   "metadata": {},
   "outputs": [],
   "source": []
  }
 ],
 "metadata": {
  "kernelspec": {
   "display_name": "Python 2",
   "language": "python",
   "name": "python2"
  },
  "language_info": {
   "codemirror_mode": {
    "name": "ipython",
    "version": 2
   },
   "file_extension": ".py",
   "mimetype": "text/x-python",
   "name": "python",
   "nbconvert_exporter": "python",
   "pygments_lexer": "ipython2",
   "version": "2.7.15"
  }
 },
 "nbformat": 4,
 "nbformat_minor": 2
}
