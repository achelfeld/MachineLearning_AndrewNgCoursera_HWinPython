{
 "cells": [
  {
   "cell_type": "code",
   "execution_count": 1,
   "metadata": {},
   "outputs": [],
   "source": [
    "# Written by Anna C Helfeld C\n",
    "# Fall 2018-Winter 2019\n",
    "\n",
    "# This code uses my solutions written in Octave/Matlab as a guide\n",
    "# Machine Learning (Andrew Ng class on Coursera)\n",
    "# Homework 7: Principal Components Analysis"
   ]
  },
  {
   "cell_type": "code",
   "execution_count": 34,
   "metadata": {},
   "outputs": [],
   "source": [
    "# Import libraries\n",
    "from pandas import *\n",
    "import matplotlib as mpl\n",
    "import matplotlib.pyplot as plt\n",
    "import numpy as np\n",
    "import scipy.io as sio\n",
    "from numpy.linalg import svd\n",
    "from PIL import Image"
   ]
  },
  {
   "cell_type": "code",
   "execution_count": 3,
   "metadata": {},
   "outputs": [
    {
     "data": {
      "text/plain": [
       "True"
      ]
     },
     "execution_count": 3,
     "metadata": {},
     "output_type": "execute_result"
    }
   ],
   "source": [
    "# Make sure file exists\n",
    "import os  \n",
    "os.path.isfile('./ex7data1.mat')    # True  "
   ]
  },
  {
   "cell_type": "code",
   "execution_count": 4,
   "metadata": {},
   "outputs": [
    {
     "data": {
      "text/plain": [
       "{'X': array([[3.38156267, 3.38911268],\n",
       "        [4.52787538, 5.8541781 ],\n",
       "        [2.65568187, 4.41199472],\n",
       "        [2.76523467, 3.71541365],\n",
       "        [2.84656011, 4.17550645],\n",
       "        [3.89067196, 6.48838087],\n",
       "        [3.47580524, 3.63284876],\n",
       "        [5.91129845, 6.68076853],\n",
       "        [3.92889397, 5.09844661],\n",
       "        [4.56183537, 5.62329929],\n",
       "        [4.57407171, 5.39765069],\n",
       "        [4.37173356, 5.46116549],\n",
       "        [4.19169388, 4.95469359],\n",
       "        [5.24408518, 4.66148767],\n",
       "        [2.8358402 , 3.76801716],\n",
       "        [5.63526969, 6.31211438],\n",
       "        [4.68632968, 5.6652411 ],\n",
       "        [2.85051337, 4.62645627],\n",
       "        [5.1101573 , 7.36319662],\n",
       "        [5.18256377, 4.64650909],\n",
       "        [5.70732809, 6.68103995],\n",
       "        [3.57968458, 4.80278074],\n",
       "        [5.63937773, 6.12043594],\n",
       "        [4.26346851, 4.68942896],\n",
       "        [2.53651693, 3.88449078],\n",
       "        [3.22382902, 4.94255585],\n",
       "        [4.92948801, 5.95501971],\n",
       "        [5.79295774, 5.10839305],\n",
       "        [2.81684824, 4.81895769],\n",
       "        [3.88882414, 5.10036564],\n",
       "        [3.34323419, 5.89301345],\n",
       "        [5.87973414, 5.52141664],\n",
       "        [3.10391912, 3.85710242],\n",
       "        [5.33150572, 4.68074235],\n",
       "        [3.37542687, 4.56537852],\n",
       "        [4.77667888, 6.25435039],\n",
       "        [2.6757463 , 3.73096988],\n",
       "        [5.50027665, 5.67948113],\n",
       "        [1.79709714, 3.24753885],\n",
       "        [4.3225147 , 5.11110472],\n",
       "        [4.42100445, 6.02563978],\n",
       "        [3.17929886, 4.43686032],\n",
       "        [3.03354125, 3.97879278],\n",
       "        [4.6093482 , 5.879792  ],\n",
       "        [2.96378859, 3.30024835],\n",
       "        [3.97176248, 5.40773735],\n",
       "        [1.18023321, 2.87869409],\n",
       "        [1.91895045, 5.07107848],\n",
       "        [3.95524687, 4.5053271 ],\n",
       "        [5.11795499, 6.08507386]]),\n",
       " '__globals__': [],\n",
       " '__header__': 'MATLAB 5.0 MAT-file, Platform: PCWIN64, Created on: Mon Nov 14 22:41:44 2011',\n",
       " '__version__': '1.0'}"
      ]
     },
     "execution_count": 4,
     "metadata": {},
     "output_type": "execute_result"
    }
   ],
   "source": [
    "# Load data\n",
    "import h5py \n",
    "data = sio.loadmat('ex7data1.mat') \n",
    "data"
   ]
  },
  {
   "cell_type": "code",
   "execution_count": 5,
   "metadata": {},
   "outputs": [
    {
     "data": {
      "text/plain": [
       "(50L, 2L)"
      ]
     },
     "execution_count": 5,
     "metadata": {},
     "output_type": "execute_result"
    }
   ],
   "source": [
    "# Put X into array\n",
    "Xdata = data['X']\n",
    "Xdata.shape"
   ]
  },
  {
   "cell_type": "code",
   "execution_count": 6,
   "metadata": {},
   "outputs": [],
   "source": [
    "# Normalize the data\n",
    "Xdf = DataFrame(Xdata)\n",
    "Xmean = Xdf.mean()\n",
    "Xstd = Xdf.std()"
   ]
  },
  {
   "cell_type": "code",
   "execution_count": 7,
   "metadata": {},
   "outputs": [],
   "source": [
    "def normalize(group, mean, std):\n",
    "    return (group - mean) / std\n",
    "X_norm = normalize(Xdf, Xmean, Xstd)"
   ]
  },
  {
   "cell_type": "code",
   "execution_count": 8,
   "metadata": {},
   "outputs": [
    {
     "data": {
      "text/html": [
       "<div>\n",
       "<style scoped>\n",
       "    .dataframe tbody tr th:only-of-type {\n",
       "        vertical-align: middle;\n",
       "    }\n",
       "\n",
       "    .dataframe tbody tr th {\n",
       "        vertical-align: top;\n",
       "    }\n",
       "\n",
       "    .dataframe thead th {\n",
       "        text-align: right;\n",
       "    }\n",
       "</style>\n",
       "<table border=\"1\" class=\"dataframe\">\n",
       "  <thead>\n",
       "    <tr style=\"text-align: right;\">\n",
       "      <th></th>\n",
       "      <th>0</th>\n",
       "      <th>1</th>\n",
       "    </tr>\n",
       "  </thead>\n",
       "  <tbody>\n",
       "    <tr>\n",
       "      <th>0</th>\n",
       "      <td>-0.518054</td>\n",
       "      <td>-1.576784</td>\n",
       "    </tr>\n",
       "    <tr>\n",
       "      <th>1</th>\n",
       "      <td>0.459154</td>\n",
       "      <td>0.831899</td>\n",
       "    </tr>\n",
       "    <tr>\n",
       "      <th>2</th>\n",
       "      <td>-1.136851</td>\n",
       "      <td>-0.577298</td>\n",
       "    </tr>\n",
       "    <tr>\n",
       "      <th>3</th>\n",
       "      <td>-1.043460</td>\n",
       "      <td>-1.257946</td>\n",
       "    </tr>\n",
       "    <tr>\n",
       "      <th>4</th>\n",
       "      <td>-0.974132</td>\n",
       "      <td>-0.808377</td>\n",
       "    </tr>\n",
       "  </tbody>\n",
       "</table>\n",
       "</div>"
      ],
      "text/plain": [
       "          0         1\n",
       "0 -0.518054 -1.576784\n",
       "1  0.459154  0.831899\n",
       "2 -1.136851 -0.577298\n",
       "3 -1.043460 -1.257946\n",
       "4 -0.974132 -0.808377"
      ]
     },
     "execution_count": 8,
     "metadata": {},
     "output_type": "execute_result"
    }
   ],
   "source": [
    "X_norm.head()"
   ]
  },
  {
   "cell_type": "code",
   "execution_count": 9,
   "metadata": {},
   "outputs": [],
   "source": [
    "# Convert to numpy array\n",
    "Xarr = X_norm.values"
   ]
  },
  {
   "cell_type": "code",
   "execution_count": 10,
   "metadata": {},
   "outputs": [
    {
     "data": {
      "text/plain": [
       "array([[0.98      , 0.72081977],\n",
       "       [0.72081977, 0.98      ]])"
      ]
     },
     "execution_count": 10,
     "metadata": {},
     "output_type": "execute_result"
    }
   ],
   "source": [
    "# Calculate covariance matrix\n",
    "Sigma=np.matmul(np.transpose(Xarr),Xarr)/Xarr.shape[0]\n",
    "Sigma"
   ]
  },
  {
   "cell_type": "code",
   "execution_count": 11,
   "metadata": {},
   "outputs": [],
   "source": [
    "# Singular value decomposition to get eigenvalues, eigenvectors\n",
    "U = svd(Sigma)[0]\n",
    "S = svd(Sigma)[1]"
   ]
  },
  {
   "cell_type": "code",
   "execution_count": 12,
   "metadata": {},
   "outputs": [],
   "source": [
    "# Define dimensions\n",
    "K = 1"
   ]
  },
  {
   "cell_type": "code",
   "execution_count": 13,
   "metadata": {},
   "outputs": [],
   "source": [
    "Ureduce=U[:,0]\n",
    "Z=np.matmul(Xarr,Ureduce)  #mxn times nxk = mxk  "
   ]
  },
  {
   "cell_type": "code",
   "execution_count": 14,
   "metadata": {},
   "outputs": [],
   "source": [
    "# Recover Xs\n",
    "X_rec=np.matmul(Z.reshape(Z.shape[0],1),np.transpose(Ureduce.reshape(Ureduce.shape[0],1))) #mXK time Kxn "
   ]
  },
  {
   "cell_type": "code",
   "execution_count": null,
   "metadata": {},
   "outputs": [],
   "source": []
  },
  {
   "cell_type": "code",
   "execution_count": 15,
   "metadata": {},
   "outputs": [
    {
     "data": {
      "text/plain": [
       "<matplotlib.legend.Legend at 0xabe93c8>"
      ]
     },
     "execution_count": 15,
     "metadata": {},
     "output_type": "execute_result"
    },
    {
     "data": {
      "image/png": "[encoded data removed]",
      "text/plain": [
       "<Figure size 432x288 with 1 Axes>"
      ]
     },
     "metadata": {
      "needs_background": "light"
     },
     "output_type": "display_data"
    }
   ],
   "source": [
    "#Plot to see what it looks like\n",
    "plt.scatter(Xarr[:,0], Xarr[:,1], label = 'Original data')\n",
    "plt.scatter(X_rec[:,0], X_rec[:,1], label = 'Dimensionality reduced')\n",
    "plt.legend()"
   ]
  },
  {
   "cell_type": "code",
   "execution_count": 47,
   "metadata": {},
   "outputs": [],
   "source": [
    "# Next dataset\n",
    "dfaces = sio.loadmat('ex7facesorig.mat') "
   ]
  },
  {
   "cell_type": "code",
   "execution_count": 48,
   "metadata": {},
   "outputs": [
    {
     "data": {
      "text/plain": [
       "(5000L, 1024L)"
      ]
     },
     "execution_count": 48,
     "metadata": {},
     "output_type": "execute_result"
    }
   ],
   "source": [
    "# Put X into array\n",
    "Xdface = dfaces['X']\n",
    "Xdface.shape"
   ]
  },
  {
   "cell_type": "code",
   "execution_count": 49,
   "metadata": {},
   "outputs": [
    {
     "data": {
      "text/plain": [
       "array([[ 36,  44,  52, ...,  96, 104,  90],\n",
       "       [ 24,  32,  37, ..., 108, 110, 103],\n",
       "       [ 15,  15,  23, ..., 110, 110, 111],\n",
       "       ...,\n",
       "       [  2,  15,  53, ..., 195, 180, 180],\n",
       "       [ 15,  20,  42, ...,  44,   2, 224],\n",
       "       [ 15,  22,  25, ..., 109, 110,  98]], dtype=uint8)"
      ]
     },
     "execution_count": 49,
     "metadata": {},
     "output_type": "execute_result"
    }
   ],
   "source": [
    "# Convert to image\n",
    "firstface = Xdface[0,:]\n",
    "dim = (Xdface.shape[1])**0.5\n",
    "im1 = 255-firstface.reshape((int(dim),int(dim))).astype('uint8')\n",
    "im1"
   ]
  },
  {
   "cell_type": "code",
   "execution_count": 50,
   "metadata": {},
   "outputs": [],
   "source": [
    "imf = Image.fromarray(im1)\n",
    "imf.save(\"face.jpg\")"
   ]
  },
  {
   "cell_type": "code",
   "execution_count": 51,
   "metadata": {},
   "outputs": [],
   "source": [
    "# Normalize the data\n",
    "Xdf = DataFrame(Xdface)\n",
    "Xfmean = Xdf.mean()\n",
    "Xfstd = Xdf.std()"
   ]
  },
  {
   "cell_type": "code",
   "execution_count": 74,
   "metadata": {},
   "outputs": [
    {
     "data": {
      "text/html": [
       "<div>\n",
       "<style scoped>\n",
       "    .dataframe tbody tr th:only-of-type {\n",
       "        vertical-align: middle;\n",
       "    }\n",
       "\n",
       "    .dataframe tbody tr th {\n",
       "        vertical-align: top;\n",
       "    }\n",
       "\n",
       "    .dataframe thead th {\n",
       "        text-align: right;\n",
       "    }\n",
       "</style>\n",
       "<table border=\"1\" class=\"dataframe\">\n",
       "  <thead>\n",
       "    <tr style=\"text-align: right;\">\n",
       "      <th></th>\n",
       "      <th>0</th>\n",
       "      <th>1</th>\n",
       "      <th>2</th>\n",
       "      <th>3</th>\n",
       "      <th>4</th>\n",
       "      <th>5</th>\n",
       "      <th>6</th>\n",
       "      <th>7</th>\n",
       "      <th>8</th>\n",
       "      <th>9</th>\n",
       "      <th>...</th>\n",
       "      <th>1014</th>\n",
       "      <th>1015</th>\n",
       "      <th>1016</th>\n",
       "      <th>1017</th>\n",
       "      <th>1018</th>\n",
       "      <th>1019</th>\n",
       "      <th>1020</th>\n",
       "      <th>1021</th>\n",
       "      <th>1022</th>\n",
       "      <th>1023</th>\n",
       "    </tr>\n",
       "  </thead>\n",
       "  <tbody>\n",
       "    <tr>\n",
       "      <th>0</th>\n",
       "      <td>-37.866314</td>\n",
       "      <td>-45.866314</td>\n",
       "      <td>-53.866314</td>\n",
       "      <td>-51.866314</td>\n",
       "      <td>-40.866314</td>\n",
       "      <td>-33.866314</td>\n",
       "      <td>-47.866314</td>\n",
       "      <td>-37.866314</td>\n",
       "      <td>-22.866314</td>\n",
       "      <td>-7.866314</td>\n",
       "      <td>...</td>\n",
       "      <td>-91.866314</td>\n",
       "      <td>-113.866314</td>\n",
       "      <td>-123.866314</td>\n",
       "      <td>-102.866314</td>\n",
       "      <td>-84.866314</td>\n",
       "      <td>-94.866314</td>\n",
       "      <td>-99.866314</td>\n",
       "      <td>-110.866314</td>\n",
       "      <td>-111.866314</td>\n",
       "      <td>-99.866314</td>\n",
       "    </tr>\n",
       "    <tr>\n",
       "      <th>1</th>\n",
       "      <td>8.133686</td>\n",
       "      <td>-0.866314</td>\n",
       "      <td>-8.866314</td>\n",
       "      <td>-15.866314</td>\n",
       "      <td>-17.866314</td>\n",
       "      <td>-16.866314</td>\n",
       "      <td>-15.866314</td>\n",
       "      <td>-21.866314</td>\n",
       "      <td>-42.866314</td>\n",
       "      <td>-28.866314</td>\n",
       "      <td>...</td>\n",
       "      <td>-47.866314</td>\n",
       "      <td>-54.866314</td>\n",
       "      <td>-54.866314</td>\n",
       "      <td>-59.866314</td>\n",
       "      <td>-74.866314</td>\n",
       "      <td>-86.866314</td>\n",
       "      <td>-70.866314</td>\n",
       "      <td>-34.866314</td>\n",
       "      <td>-8.866314</td>\n",
       "      <td>0.133686</td>\n",
       "    </tr>\n",
       "    <tr>\n",
       "      <th>2</th>\n",
       "      <td>-32.866314</td>\n",
       "      <td>-34.866314</td>\n",
       "      <td>-36.866314</td>\n",
       "      <td>-18.866314</td>\n",
       "      <td>6.133686</td>\n",
       "      <td>15.133686</td>\n",
       "      <td>-1.866314</td>\n",
       "      <td>-31.866314</td>\n",
       "      <td>-1.866314</td>\n",
       "      <td>13.133686</td>\n",
       "      <td>...</td>\n",
       "      <td>-36.866314</td>\n",
       "      <td>-41.866314</td>\n",
       "      <td>-46.866314</td>\n",
       "      <td>-51.866314</td>\n",
       "      <td>-73.866314</td>\n",
       "      <td>-96.866314</td>\n",
       "      <td>-105.866314</td>\n",
       "      <td>-110.866314</td>\n",
       "      <td>-111.866314</td>\n",
       "      <td>-111.866314</td>\n",
       "    </tr>\n",
       "    <tr>\n",
       "      <th>3</th>\n",
       "      <td>-84.866314</td>\n",
       "      <td>-64.866314</td>\n",
       "      <td>-47.866314</td>\n",
       "      <td>-42.866314</td>\n",
       "      <td>-38.866314</td>\n",
       "      <td>-28.866314</td>\n",
       "      <td>-17.866314</td>\n",
       "      <td>-11.866314</td>\n",
       "      <td>-10.866314</td>\n",
       "      <td>-12.866314</td>\n",
       "      <td>...</td>\n",
       "      <td>-37.866314</td>\n",
       "      <td>-38.866314</td>\n",
       "      <td>-41.866314</td>\n",
       "      <td>-45.866314</td>\n",
       "      <td>-48.866314</td>\n",
       "      <td>-55.866314</td>\n",
       "      <td>-56.866314</td>\n",
       "      <td>-56.866314</td>\n",
       "      <td>-57.866314</td>\n",
       "      <td>-53.866314</td>\n",
       "    </tr>\n",
       "    <tr>\n",
       "      <th>4</th>\n",
       "      <td>2.133686</td>\n",
       "      <td>6.133686</td>\n",
       "      <td>5.133686</td>\n",
       "      <td>9.133686</td>\n",
       "      <td>10.133686</td>\n",
       "      <td>11.133686</td>\n",
       "      <td>11.133686</td>\n",
       "      <td>11.133686</td>\n",
       "      <td>12.133686</td>\n",
       "      <td>12.133686</td>\n",
       "      <td>...</td>\n",
       "      <td>-42.866314</td>\n",
       "      <td>-59.866314</td>\n",
       "      <td>-72.866314</td>\n",
       "      <td>-70.866314</td>\n",
       "      <td>-68.866314</td>\n",
       "      <td>-56.866314</td>\n",
       "      <td>-30.866314</td>\n",
       "      <td>-9.866314</td>\n",
       "      <td>0.133686</td>\n",
       "      <td>-14.866314</td>\n",
       "    </tr>\n",
       "  </tbody>\n",
       "</table>\n",
       "<p>5 rows × 1024 columns</p>\n",
       "</div>"
      ],
      "text/plain": [
       "        0          1          2          3          4          5     \\\n",
       "0 -37.866314 -45.866314 -53.866314 -51.866314 -40.866314 -33.866314   \n",
       "1   8.133686  -0.866314  -8.866314 -15.866314 -17.866314 -16.866314   \n",
       "2 -32.866314 -34.866314 -36.866314 -18.866314   6.133686  15.133686   \n",
       "3 -84.866314 -64.866314 -47.866314 -42.866314 -38.866314 -28.866314   \n",
       "4   2.133686   6.133686   5.133686   9.133686  10.133686  11.133686   \n",
       "\n",
       "        6          7          8          9        ...           1014  \\\n",
       "0 -47.866314 -37.866314 -22.866314  -7.866314     ...     -91.866314   \n",
       "1 -15.866314 -21.866314 -42.866314 -28.866314     ...     -47.866314   \n",
       "2  -1.866314 -31.866314  -1.866314  13.133686     ...     -36.866314   \n",
       "3 -17.866314 -11.866314 -10.866314 -12.866314     ...     -37.866314   \n",
       "4  11.133686  11.133686  12.133686  12.133686     ...     -42.866314   \n",
       "\n",
       "         1015        1016        1017       1018       1019        1020  \\\n",
       "0 -113.866314 -123.866314 -102.866314 -84.866314 -94.866314  -99.866314   \n",
       "1  -54.866314  -54.866314  -59.866314 -74.866314 -86.866314  -70.866314   \n",
       "2  -41.866314  -46.866314  -51.866314 -73.866314 -96.866314 -105.866314   \n",
       "3  -38.866314  -41.866314  -45.866314 -48.866314 -55.866314  -56.866314   \n",
       "4  -59.866314  -72.866314  -70.866314 -68.866314 -56.866314  -30.866314   \n",
       "\n",
       "         1021        1022        1023  \n",
       "0 -110.866314 -111.866314  -99.866314  \n",
       "1  -34.866314   -8.866314    0.133686  \n",
       "2 -110.866314 -111.866314 -111.866314  \n",
       "3  -56.866314  -57.866314  -53.866314  \n",
       "4   -9.866314    0.133686  -14.866314  \n",
       "\n",
       "[5 rows x 1024 columns]"
      ]
     },
     "execution_count": 74,
     "metadata": {},
     "output_type": "execute_result"
    }
   ],
   "source": [
    "Xdf.head()"
   ]
  },
  {
   "cell_type": "code",
   "execution_count": 52,
   "metadata": {},
   "outputs": [],
   "source": [
    "def normalize(group, mean, std):\n",
    "    return (group - mean) / std\n",
    "Xf_norm = normalize(Xdf, Xfmean, Xfstd)"
   ]
  },
  {
   "cell_type": "code",
   "execution_count": 53,
   "metadata": {},
   "outputs": [
    {
     "data": {
      "text/html": [
       "<div>\n",
       "<style scoped>\n",
       "    .dataframe tbody tr th:only-of-type {\n",
       "        vertical-align: middle;\n",
       "    }\n",
       "\n",
       "    .dataframe tbody tr th {\n",
       "        vertical-align: top;\n",
       "    }\n",
       "\n",
       "    .dataframe thead th {\n",
       "        text-align: right;\n",
       "    }\n",
       "</style>\n",
       "<table border=\"1\" class=\"dataframe\">\n",
       "  <thead>\n",
       "    <tr style=\"text-align: right;\">\n",
       "      <th></th>\n",
       "      <th>0</th>\n",
       "      <th>1</th>\n",
       "      <th>2</th>\n",
       "      <th>3</th>\n",
       "      <th>4</th>\n",
       "      <th>5</th>\n",
       "      <th>6</th>\n",
       "      <th>7</th>\n",
       "      <th>8</th>\n",
       "      <th>9</th>\n",
       "      <th>...</th>\n",
       "      <th>1014</th>\n",
       "      <th>1015</th>\n",
       "      <th>1016</th>\n",
       "      <th>1017</th>\n",
       "      <th>1018</th>\n",
       "      <th>1019</th>\n",
       "      <th>1020</th>\n",
       "      <th>1021</th>\n",
       "      <th>1022</th>\n",
       "      <th>1023</th>\n",
       "    </tr>\n",
       "  </thead>\n",
       "  <tbody>\n",
       "    <tr>\n",
       "      <th>0</th>\n",
       "      <td>-0.315209</td>\n",
       "      <td>-0.497533</td>\n",
       "      <td>-0.690515</td>\n",
       "      <td>-0.680459</td>\n",
       "      <td>-0.478780</td>\n",
       "      <td>-0.355614</td>\n",
       "      <td>-0.676538</td>\n",
       "      <td>-0.501256</td>\n",
       "      <td>-0.237421</td>\n",
       "      <td>0.014403</td>\n",
       "      <td>...</td>\n",
       "      <td>-1.595768</td>\n",
       "      <td>-1.974134</td>\n",
       "      <td>-2.100094</td>\n",
       "      <td>-1.602532</td>\n",
       "      <td>-1.180701</td>\n",
       "      <td>-1.307853</td>\n",
       "      <td>-1.344796</td>\n",
       "      <td>-1.485807</td>\n",
       "      <td>-1.439685</td>\n",
       "      <td>-1.183700</td>\n",
       "    </tr>\n",
       "    <tr>\n",
       "      <th>1</th>\n",
       "      <td>0.583947</td>\n",
       "      <td>0.395982</td>\n",
       "      <td>0.219142</td>\n",
       "      <td>0.055429</td>\n",
       "      <td>-0.002720</td>\n",
       "      <td>-0.001035</td>\n",
       "      <td>-0.005432</td>\n",
       "      <td>-0.165254</td>\n",
       "      <td>-0.657583</td>\n",
       "      <td>-0.427394</td>\n",
       "      <td>...</td>\n",
       "      <td>-0.675402</td>\n",
       "      <td>-0.769629</td>\n",
       "      <td>-0.717900</td>\n",
       "      <td>-0.757499</td>\n",
       "      <td>-0.987331</td>\n",
       "      <td>-1.155086</td>\n",
       "      <td>-0.800390</td>\n",
       "      <td>-0.083751</td>\n",
       "      <td>0.419771</td>\n",
       "      <td>0.585731</td>\n",
       "    </tr>\n",
       "    <tr>\n",
       "      <th>2</th>\n",
       "      <td>-0.217474</td>\n",
       "      <td>-0.279118</td>\n",
       "      <td>-0.346866</td>\n",
       "      <td>-0.005895</td>\n",
       "      <td>0.494039</td>\n",
       "      <td>0.666410</td>\n",
       "      <td>0.288177</td>\n",
       "      <td>-0.375255</td>\n",
       "      <td>0.203749</td>\n",
       "      <td>0.456199</td>\n",
       "      <td>...</td>\n",
       "      <td>-0.445311</td>\n",
       "      <td>-0.504230</td>\n",
       "      <td>-0.557645</td>\n",
       "      <td>-0.600284</td>\n",
       "      <td>-0.967994</td>\n",
       "      <td>-1.346045</td>\n",
       "      <td>-1.457431</td>\n",
       "      <td>-1.485807</td>\n",
       "      <td>-1.439685</td>\n",
       "      <td>-1.396032</td>\n",
       "    </tr>\n",
       "    <tr>\n",
       "      <th>3</th>\n",
       "      <td>-1.233911</td>\n",
       "      <td>-0.874794</td>\n",
       "      <td>-0.569227</td>\n",
       "      <td>-0.496487</td>\n",
       "      <td>-0.437383</td>\n",
       "      <td>-0.251326</td>\n",
       "      <td>-0.047376</td>\n",
       "      <td>0.044747</td>\n",
       "      <td>0.014676</td>\n",
       "      <td>-0.090787</td>\n",
       "      <td>...</td>\n",
       "      <td>-0.466228</td>\n",
       "      <td>-0.442984</td>\n",
       "      <td>-0.457486</td>\n",
       "      <td>-0.482372</td>\n",
       "      <td>-0.484570</td>\n",
       "      <td>-0.563112</td>\n",
       "      <td>-0.537573</td>\n",
       "      <td>-0.489609</td>\n",
       "      <td>-0.464824</td>\n",
       "      <td>-0.369762</td>\n",
       "    </tr>\n",
       "    <tr>\n",
       "      <th>4</th>\n",
       "      <td>0.466666</td>\n",
       "      <td>0.534973</td>\n",
       "      <td>0.502147</td>\n",
       "      <td>0.566462</td>\n",
       "      <td>0.576832</td>\n",
       "      <td>0.582979</td>\n",
       "      <td>0.560814</td>\n",
       "      <td>0.527749</td>\n",
       "      <td>0.497863</td>\n",
       "      <td>0.435161</td>\n",
       "      <td>...</td>\n",
       "      <td>-0.570815</td>\n",
       "      <td>-0.871706</td>\n",
       "      <td>-1.078472</td>\n",
       "      <td>-0.973671</td>\n",
       "      <td>-0.871309</td>\n",
       "      <td>-0.582208</td>\n",
       "      <td>-0.049485</td>\n",
       "      <td>0.377452</td>\n",
       "      <td>0.582248</td>\n",
       "      <td>0.320317</td>\n",
       "    </tr>\n",
       "  </tbody>\n",
       "</table>\n",
       "<p>5 rows × 1024 columns</p>\n",
       "</div>"
      ],
      "text/plain": [
       "       0         1         2         3         4         5         6     \\\n",
       "0 -0.315209 -0.497533 -0.690515 -0.680459 -0.478780 -0.355614 -0.676538   \n",
       "1  0.583947  0.395982  0.219142  0.055429 -0.002720 -0.001035 -0.005432   \n",
       "2 -0.217474 -0.279118 -0.346866 -0.005895  0.494039  0.666410  0.288177   \n",
       "3 -1.233911 -0.874794 -0.569227 -0.496487 -0.437383 -0.251326 -0.047376   \n",
       "4  0.466666  0.534973  0.502147  0.566462  0.576832  0.582979  0.560814   \n",
       "\n",
       "       7         8         9       ...         1014      1015      1016  \\\n",
       "0 -0.501256 -0.237421  0.014403    ...    -1.595768 -1.974134 -2.100094   \n",
       "1 -0.165254 -0.657583 -0.427394    ...    -0.675402 -0.769629 -0.717900   \n",
       "2 -0.375255  0.203749  0.456199    ...    -0.445311 -0.504230 -0.557645   \n",
       "3  0.044747  0.014676 -0.090787    ...    -0.466228 -0.442984 -0.457486   \n",
       "4  0.527749  0.497863  0.435161    ...    -0.570815 -0.871706 -1.078472   \n",
       "\n",
       "       1017      1018      1019      1020      1021      1022      1023  \n",
       "0 -1.602532 -1.180701 -1.307853 -1.344796 -1.485807 -1.439685 -1.183700  \n",
       "1 -0.757499 -0.987331 -1.155086 -0.800390 -0.083751  0.419771  0.585731  \n",
       "2 -0.600284 -0.967994 -1.346045 -1.457431 -1.485807 -1.439685 -1.396032  \n",
       "3 -0.482372 -0.484570 -0.563112 -0.537573 -0.489609 -0.464824 -0.369762  \n",
       "4 -0.973671 -0.871309 -0.582208 -0.049485  0.377452  0.582248  0.320317  \n",
       "\n",
       "[5 rows x 1024 columns]"
      ]
     },
     "execution_count": 53,
     "metadata": {},
     "output_type": "execute_result"
    }
   ],
   "source": [
    "Xf_norm.head()"
   ]
  },
  {
   "cell_type": "code",
   "execution_count": 55,
   "metadata": {},
   "outputs": [
    {
     "data": {
      "text/plain": [
       "(1024L, 1024L)"
      ]
     },
     "execution_count": 55,
     "metadata": {},
     "output_type": "execute_result"
    }
   ],
   "source": [
    "# Calculate covariance matrix\n",
    "Xf_arr = Xf_norm.values\n",
    "Sigma=np.matmul(np.transpose(Xf_arr),Xf_arr)/Xf_arr.shape[0]\n",
    "Sigma.shape"
   ]
  },
  {
   "cell_type": "code",
   "execution_count": 56,
   "metadata": {},
   "outputs": [],
   "source": [
    "# Singular value decomposition to get eigenvalues, eigenvectors\n",
    "U = svd(Sigma)[0]\n",
    "S = svd(Sigma)[1]"
   ]
  },
  {
   "cell_type": "code",
   "execution_count": 77,
   "metadata": {},
   "outputs": [],
   "source": [
    "# Reduce dimensionality\n",
    "K=10\n",
    "Ureduce=U[:,0:K]\n",
    "Z=np.matmul(Xf_arr,Ureduce)  #mxn times nxk = mxk  "
   ]
  },
  {
   "cell_type": "code",
   "execution_count": 78,
   "metadata": {},
   "outputs": [],
   "source": [
    "# Recover Xs\n",
    "X_rec=np.matmul(Z,np.transpose(Ureduce)) #mXK time Kxn "
   ]
  },
  {
   "cell_type": "code",
   "execution_count": 79,
   "metadata": {},
   "outputs": [],
   "source": [
    "# Convert back to non-normalized values\n",
    "Xdfrec = DataFrame(X_rec)\n",
    "Xrec_orig = (Xdfrec*Xfstd)+Xfmean"
   ]
  },
  {
   "cell_type": "code",
   "execution_count": 80,
   "metadata": {
    "scrolled": true
   },
   "outputs": [
    {
     "data": {
      "text/html": [
       "<div>\n",
       "<style scoped>\n",
       "    .dataframe tbody tr th:only-of-type {\n",
       "        vertical-align: middle;\n",
       "    }\n",
       "\n",
       "    .dataframe tbody tr th {\n",
       "        vertical-align: top;\n",
       "    }\n",
       "\n",
       "    .dataframe thead th {\n",
       "        text-align: right;\n",
       "    }\n",
       "</style>\n",
       "<table border=\"1\" class=\"dataframe\">\n",
       "  <thead>\n",
       "    <tr style=\"text-align: right;\">\n",
       "      <th></th>\n",
       "      <th>0</th>\n",
       "      <th>1</th>\n",
       "      <th>2</th>\n",
       "      <th>3</th>\n",
       "      <th>4</th>\n",
       "      <th>5</th>\n",
       "      <th>6</th>\n",
       "      <th>7</th>\n",
       "      <th>8</th>\n",
       "      <th>9</th>\n",
       "      <th>...</th>\n",
       "      <th>1014</th>\n",
       "      <th>1015</th>\n",
       "      <th>1016</th>\n",
       "      <th>1017</th>\n",
       "      <th>1018</th>\n",
       "      <th>1019</th>\n",
       "      <th>1020</th>\n",
       "      <th>1021</th>\n",
       "      <th>1022</th>\n",
       "      <th>1023</th>\n",
       "    </tr>\n",
       "  </thead>\n",
       "  <tbody>\n",
       "    <tr>\n",
       "      <th>0</th>\n",
       "      <td>-30.721470</td>\n",
       "      <td>-30.644887</td>\n",
       "      <td>-30.470514</td>\n",
       "      <td>-30.269510</td>\n",
       "      <td>-30.813591</td>\n",
       "      <td>-31.621052</td>\n",
       "      <td>-32.478146</td>\n",
       "      <td>-33.398115</td>\n",
       "      <td>-32.708817</td>\n",
       "      <td>-32.460285</td>\n",
       "      <td>...</td>\n",
       "      <td>-44.494897</td>\n",
       "      <td>-47.499728</td>\n",
       "      <td>-50.048095</td>\n",
       "      <td>-52.533533</td>\n",
       "      <td>-55.200389</td>\n",
       "      <td>-57.510103</td>\n",
       "      <td>-58.101703</td>\n",
       "      <td>-58.190832</td>\n",
       "      <td>-57.928514</td>\n",
       "      <td>-56.717681</td>\n",
       "    </tr>\n",
       "    <tr>\n",
       "      <th>1</th>\n",
       "      <td>4.524449</td>\n",
       "      <td>5.216626</td>\n",
       "      <td>4.893510</td>\n",
       "      <td>4.236284</td>\n",
       "      <td>2.563474</td>\n",
       "      <td>0.057693</td>\n",
       "      <td>-2.558936</td>\n",
       "      <td>-5.509796</td>\n",
       "      <td>-7.100817</td>\n",
       "      <td>-8.012918</td>\n",
       "      <td>...</td>\n",
       "      <td>-54.255234</td>\n",
       "      <td>-56.170618</td>\n",
       "      <td>-57.228477</td>\n",
       "      <td>-58.262924</td>\n",
       "      <td>-59.588744</td>\n",
       "      <td>-60.708090</td>\n",
       "      <td>-61.154120</td>\n",
       "      <td>-61.390716</td>\n",
       "      <td>-61.045313</td>\n",
       "      <td>-59.569250</td>\n",
       "    </tr>\n",
       "    <tr>\n",
       "      <th>2</th>\n",
       "      <td>21.863899</td>\n",
       "      <td>23.183555</td>\n",
       "      <td>23.945683</td>\n",
       "      <td>23.846021</td>\n",
       "      <td>22.651583</td>\n",
       "      <td>20.929319</td>\n",
       "      <td>19.352977</td>\n",
       "      <td>17.790331</td>\n",
       "      <td>17.490196</td>\n",
       "      <td>18.334807</td>\n",
       "      <td>...</td>\n",
       "      <td>-29.907919</td>\n",
       "      <td>-31.289893</td>\n",
       "      <td>-32.601736</td>\n",
       "      <td>-33.939122</td>\n",
       "      <td>-35.699175</td>\n",
       "      <td>-37.825060</td>\n",
       "      <td>-39.554064</td>\n",
       "      <td>-41.454414</td>\n",
       "      <td>-43.016645</td>\n",
       "      <td>-43.064117</td>\n",
       "    </tr>\n",
       "    <tr>\n",
       "      <th>3</th>\n",
       "      <td>-16.775485</td>\n",
       "      <td>-16.275450</td>\n",
       "      <td>-15.781915</td>\n",
       "      <td>-16.150085</td>\n",
       "      <td>-17.184677</td>\n",
       "      <td>-18.772979</td>\n",
       "      <td>-20.565048</td>\n",
       "      <td>-21.994830</td>\n",
       "      <td>-22.317182</td>\n",
       "      <td>-20.915575</td>\n",
       "      <td>...</td>\n",
       "      <td>-41.130575</td>\n",
       "      <td>-42.076403</td>\n",
       "      <td>-42.732499</td>\n",
       "      <td>-43.194563</td>\n",
       "      <td>-43.680216</td>\n",
       "      <td>-43.852748</td>\n",
       "      <td>-44.181475</td>\n",
       "      <td>-44.724911</td>\n",
       "      <td>-45.204359</td>\n",
       "      <td>-44.864786</td>\n",
       "    </tr>\n",
       "    <tr>\n",
       "      <th>4</th>\n",
       "      <td>-21.397700</td>\n",
       "      <td>-20.500699</td>\n",
       "      <td>-18.534482</td>\n",
       "      <td>-17.228409</td>\n",
       "      <td>-15.695785</td>\n",
       "      <td>-13.417910</td>\n",
       "      <td>-11.868687</td>\n",
       "      <td>-10.604824</td>\n",
       "      <td>-8.598469</td>\n",
       "      <td>-7.315303</td>\n",
       "      <td>...</td>\n",
       "      <td>-46.270160</td>\n",
       "      <td>-47.537327</td>\n",
       "      <td>-48.219972</td>\n",
       "      <td>-48.657873</td>\n",
       "      <td>-49.257811</td>\n",
       "      <td>-49.979683</td>\n",
       "      <td>-50.156887</td>\n",
       "      <td>-50.076886</td>\n",
       "      <td>-50.433659</td>\n",
       "      <td>-50.177442</td>\n",
       "    </tr>\n",
       "  </tbody>\n",
       "</table>\n",
       "<p>5 rows × 1024 columns</p>\n",
       "</div>"
      ],
      "text/plain": [
       "        0          1          2          3          4          5     \\\n",
       "0 -30.721470 -30.644887 -30.470514 -30.269510 -30.813591 -31.621052   \n",
       "1   4.524449   5.216626   4.893510   4.236284   2.563474   0.057693   \n",
       "2  21.863899  23.183555  23.945683  23.846021  22.651583  20.929319   \n",
       "3 -16.775485 -16.275450 -15.781915 -16.150085 -17.184677 -18.772979   \n",
       "4 -21.397700 -20.500699 -18.534482 -17.228409 -15.695785 -13.417910   \n",
       "\n",
       "        6          7          8          9       ...           1014  \\\n",
       "0 -32.478146 -33.398115 -32.708817 -32.460285    ...     -44.494897   \n",
       "1  -2.558936  -5.509796  -7.100817  -8.012918    ...     -54.255234   \n",
       "2  19.352977  17.790331  17.490196  18.334807    ...     -29.907919   \n",
       "3 -20.565048 -21.994830 -22.317182 -20.915575    ...     -41.130575   \n",
       "4 -11.868687 -10.604824  -8.598469  -7.315303    ...     -46.270160   \n",
       "\n",
       "        1015       1016       1017       1018       1019       1020  \\\n",
       "0 -47.499728 -50.048095 -52.533533 -55.200389 -57.510103 -58.101703   \n",
       "1 -56.170618 -57.228477 -58.262924 -59.588744 -60.708090 -61.154120   \n",
       "2 -31.289893 -32.601736 -33.939122 -35.699175 -37.825060 -39.554064   \n",
       "3 -42.076403 -42.732499 -43.194563 -43.680216 -43.852748 -44.181475   \n",
       "4 -47.537327 -48.219972 -48.657873 -49.257811 -49.979683 -50.156887   \n",
       "\n",
       "        1021       1022       1023  \n",
       "0 -58.190832 -57.928514 -56.717681  \n",
       "1 -61.390716 -61.045313 -59.569250  \n",
       "2 -41.454414 -43.016645 -43.064117  \n",
       "3 -44.724911 -45.204359 -44.864786  \n",
       "4 -50.076886 -50.433659 -50.177442  \n",
       "\n",
       "[5 rows x 1024 columns]"
      ]
     },
     "execution_count": 80,
     "metadata": {},
     "output_type": "execute_result"
    }
   ],
   "source": [
    "Xrec_orig.head()"
   ]
  },
  {
   "cell_type": "code",
   "execution_count": 81,
   "metadata": {},
   "outputs": [
    {
     "data": {
      "text/plain": [
       "array([[29, 29, 29, ..., 87, 87, 86],\n",
       "       [20, 19, 20, ..., 88, 89, 88],\n",
       "       [10, 10, 11, ..., 87, 88, 88],\n",
       "       ...,\n",
       "       [ 5,  5,  7, ..., 50, 51, 52],\n",
       "       [15, 14, 14, ..., 55, 56, 55],\n",
       "       [24, 22, 21, ..., 57, 56, 55]], dtype=uint8)"
      ]
     },
     "execution_count": 81,
     "metadata": {},
     "output_type": "execute_result"
    }
   ],
   "source": [
    "# Convert to image\n",
    "Xdface = Xrec_orig.values\n",
    "firstface = Xdface[0,:]\n",
    "dim = (Xdface.shape[1])**0.5\n",
    "im1 = 255-firstface.reshape((int(dim),int(dim))).astype('uint8')\n",
    "im1"
   ]
  },
  {
   "cell_type": "code",
   "execution_count": 82,
   "metadata": {},
   "outputs": [],
   "source": [
    "imf = Image.fromarray(im1)\n",
    "imf.save(\"face_red.jpg\")"
   ]
  },
  {
   "cell_type": "code",
   "execution_count": null,
   "metadata": {},
   "outputs": [],
   "source": []
  }
 ],
 "metadata": {
  "kernelspec": {
   "display_name": "Python 2",
   "language": "python",
   "name": "python2"
  },
  "language_info": {
   "codemirror_mode": {
    "name": "ipython",
    "version": 2
   },
   "file_extension": ".py",
   "mimetype": "text/x-python",
   "name": "python",
   "nbconvert_exporter": "python",
   "pygments_lexer": "ipython2",
   "version": "2.7.15"
  }
 },
 "nbformat": 4,
 "nbformat_minor": 2
}
