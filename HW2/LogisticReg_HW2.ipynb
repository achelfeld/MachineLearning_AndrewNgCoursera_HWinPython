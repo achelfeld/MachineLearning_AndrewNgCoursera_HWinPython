{
 "cells": [
  {
   "cell_type": "code",
   "execution_count": 1,
   "metadata": {},
   "outputs": [],
   "source": [
    "# Written by Anna C Helfeld C\n",
    "# Fall 2018-Winter 2019\n",
    "\n",
    "# This code uses my solutions written in Octave/Matlab as a guide\n",
    "# Machine Learning (Andrew Ng class on Coursera)\n",
    "# Homework 2: Logistic Regression"
   ]
  },
  {
   "cell_type": "code",
   "execution_count": 2,
   "metadata": {},
   "outputs": [],
   "source": [
    "# Import libraries\n",
    "from pandas import *\n",
    "import matplotlib as mpl\n",
    "import matplotlib.pyplot as plt\n",
    "import numpy as np\n",
    "from sklearn.linear_model import LogisticRegression"
   ]
  },
  {
   "cell_type": "code",
   "execution_count": 3,
   "metadata": {},
   "outputs": [
    {
     "data": {
      "text/html": [
       "<div>\n",
       "<style scoped>\n",
       "    .dataframe tbody tr th:only-of-type {\n",
       "        vertical-align: middle;\n",
       "    }\n",
       "\n",
       "    .dataframe tbody tr th {\n",
       "        vertical-align: top;\n",
       "    }\n",
       "\n",
       "    .dataframe thead th {\n",
       "        text-align: right;\n",
       "    }\n",
       "</style>\n",
       "<table border=\"1\" class=\"dataframe\">\n",
       "  <thead>\n",
       "    <tr style=\"text-align: right;\">\n",
       "      <th></th>\n",
       "      <th>0</th>\n",
       "      <th>1</th>\n",
       "      <th>2</th>\n",
       "    </tr>\n",
       "  </thead>\n",
       "  <tbody>\n",
       "    <tr>\n",
       "      <th>0</th>\n",
       "      <td>0.051267</td>\n",
       "      <td>0.69956</td>\n",
       "      <td>1</td>\n",
       "    </tr>\n",
       "    <tr>\n",
       "      <th>1</th>\n",
       "      <td>-0.092742</td>\n",
       "      <td>0.68494</td>\n",
       "      <td>1</td>\n",
       "    </tr>\n",
       "    <tr>\n",
       "      <th>2</th>\n",
       "      <td>-0.213710</td>\n",
       "      <td>0.69225</td>\n",
       "      <td>1</td>\n",
       "    </tr>\n",
       "    <tr>\n",
       "      <th>3</th>\n",
       "      <td>-0.375000</td>\n",
       "      <td>0.50219</td>\n",
       "      <td>1</td>\n",
       "    </tr>\n",
       "    <tr>\n",
       "      <th>4</th>\n",
       "      <td>-0.513250</td>\n",
       "      <td>0.46564</td>\n",
       "      <td>1</td>\n",
       "    </tr>\n",
       "  </tbody>\n",
       "</table>\n",
       "</div>"
      ],
      "text/plain": [
       "          0        1  2\n",
       "0  0.051267  0.69956  1\n",
       "1 -0.092742  0.68494  1\n",
       "2 -0.213710  0.69225  1\n",
       "3 -0.375000  0.50219  1\n",
       "4 -0.513250  0.46564  1"
      ]
     },
     "execution_count": 3,
     "metadata": {},
     "output_type": "execute_result"
    }
   ],
   "source": [
    "# Load microchip data\n",
    "micro  = read_csv(\"ex2data2.txt\",header=None)\n",
    "micro.head() #check it looks ok"
   ]
  },
  {
   "cell_type": "code",
   "execution_count": 4,
   "metadata": {},
   "outputs": [
    {
     "data": {
      "text/html": [
       "<div>\n",
       "<style scoped>\n",
       "    .dataframe tbody tr th:only-of-type {\n",
       "        vertical-align: middle;\n",
       "    }\n",
       "\n",
       "    .dataframe tbody tr th {\n",
       "        vertical-align: top;\n",
       "    }\n",
       "\n",
       "    .dataframe thead th {\n",
       "        text-align: right;\n",
       "    }\n",
       "</style>\n",
       "<table border=\"1\" class=\"dataframe\">\n",
       "  <thead>\n",
       "    <tr style=\"text-align: right;\">\n",
       "      <th></th>\n",
       "      <th>Test1</th>\n",
       "      <th>Test2</th>\n",
       "      <th>Accepted</th>\n",
       "    </tr>\n",
       "  </thead>\n",
       "  <tbody>\n",
       "    <tr>\n",
       "      <th>0</th>\n",
       "      <td>0.051267</td>\n",
       "      <td>0.69956</td>\n",
       "      <td>1</td>\n",
       "    </tr>\n",
       "    <tr>\n",
       "      <th>1</th>\n",
       "      <td>-0.092742</td>\n",
       "      <td>0.68494</td>\n",
       "      <td>1</td>\n",
       "    </tr>\n",
       "    <tr>\n",
       "      <th>2</th>\n",
       "      <td>-0.213710</td>\n",
       "      <td>0.69225</td>\n",
       "      <td>1</td>\n",
       "    </tr>\n",
       "    <tr>\n",
       "      <th>3</th>\n",
       "      <td>-0.375000</td>\n",
       "      <td>0.50219</td>\n",
       "      <td>1</td>\n",
       "    </tr>\n",
       "    <tr>\n",
       "      <th>4</th>\n",
       "      <td>-0.513250</td>\n",
       "      <td>0.46564</td>\n",
       "      <td>1</td>\n",
       "    </tr>\n",
       "  </tbody>\n",
       "</table>\n",
       "</div>"
      ],
      "text/plain": [
       "      Test1    Test2  Accepted\n",
       "0  0.051267  0.69956         1\n",
       "1 -0.092742  0.68494         1\n",
       "2 -0.213710  0.69225         1\n",
       "3 -0.375000  0.50219         1\n",
       "4 -0.513250  0.46564         1"
      ]
     },
     "execution_count": 4,
     "metadata": {},
     "output_type": "execute_result"
    }
   ],
   "source": [
    "micro.columns = ['Test1','Test2','Accepted']\n",
    "micro.head()"
   ]
  },
  {
   "cell_type": "code",
   "execution_count": 5,
   "metadata": {},
   "outputs": [
    {
     "data": {
      "text/plain": [
       "Text(0,0.5,'Test2')"
      ]
     },
     "execution_count": 5,
     "metadata": {},
     "output_type": "execute_result"
    },
    {
     "data": {
      "image/png": "[encoded data removed]",
      "text/plain": [
       "<Figure size 432x288 with 1 Axes>"
      ]
     },
     "metadata": {
      "needs_background": "light"
     },
     "output_type": "display_data"
    }
   ],
   "source": [
    "# Plot data to see what it looks like\n",
    "Pos = micro[micro.Accepted == 1]\n",
    "Neg = micro[micro.Accepted == 0]\n",
    "plt.scatter(Pos.values[:,0], Pos.values[:,1])\n",
    "plt.scatter(Neg.values[:,0], Neg.values[:,1])\n",
    "plt.xlabel('Test1')\n",
    "plt.ylabel('Test2')"
   ]
  },
  {
   "cell_type": "code",
   "execution_count": 6,
   "metadata": {},
   "outputs": [],
   "source": [
    "#np.ones((Pos.values.size,1)) #test"
   ]
  },
  {
   "cell_type": "code",
   "execution_count": 7,
   "metadata": {},
   "outputs": [],
   "source": [
    "#Atest=np.ones((5,1))\n",
    "#Btest=np.zeros((5,2))\n",
    "#Ctest=np.concatenate((Atest,Btest),1)\n",
    "#Ctest"
   ]
  },
  {
   "cell_type": "code",
   "execution_count": 8,
   "metadata": {},
   "outputs": [],
   "source": [
    "#temp1=np.multiply(np.power(micro.values[:,0],1),np.power(micro.values[:,1],0))"
   ]
  },
  {
   "cell_type": "code",
   "execution_count": 9,
   "metadata": {},
   "outputs": [],
   "source": [
    "#temp1.shape=((micro.values[:,0].size,1))\n",
    "\n",
    "#np.concatenate((micro.values,temp1),1)"
   ]
  },
  {
   "cell_type": "code",
   "execution_count": null,
   "metadata": {},
   "outputs": [],
   "source": []
  },
  {
   "cell_type": "code",
   "execution_count": 10,
   "metadata": {},
   "outputs": [],
   "source": [
    "# Define feature mapping function\n",
    "# X1, X2, X1.^2, X2.^2, X1*X2, X1*X2.^2 ...etc.\n",
    "def map_features(X, deg): # deg=degree of polynomial\n",
    "    Xnew = np.ones((X[:,0].size,1)) # Set up with bias term\n",
    "    for i in range(1,deg+1):\n",
    "        for j in range(0,i+1):\n",
    "            temp1=np.multiply(np.power(X[:,0],i-j),np.power(X[:,1],j)) #element-wise multiplication\n",
    "            temp1.shape=((X[:,0].size,1))\n",
    "            Xnew = np.concatenate((Xnew,temp1),1)\n",
    "    return Xnew"
   ]
  },
  {
   "cell_type": "code",
   "execution_count": 11,
   "metadata": {},
   "outputs": [],
   "source": [
    "X_feat = micro.values[:,0:2] #Define an array of the 2 features; test1 and test2\n",
    "X_nfeat = map_features(X_feat,6) #Transform to 28-feature array; 6th-order polymonial of test1 and test2"
   ]
  },
  {
   "cell_type": "code",
   "execution_count": 12,
   "metadata": {},
   "outputs": [],
   "source": [
    "y_class = micro.values[:,2] #Define class array; 1=accepted\n",
    "X_nfeat = map_features(X_feat,6)"
   ]
  },
  {
   "cell_type": "code",
   "execution_count": 13,
   "metadata": {},
   "outputs": [],
   "source": [
    "# Use the scikit learn library to run logistic regression\n",
    "clf = LogisticRegression(solver='liblinear',multi_class='ovr').fit(X_nfeat,y_class)"
   ]
  },
  {
   "cell_type": "code",
   "execution_count": 14,
   "metadata": {},
   "outputs": [],
   "source": [
    "#Create grid for plotting\n",
    "def frange(start, stop, step):\n",
    "    i = start\n",
    "    while i < stop:\n",
    "        yield i\n",
    "        i += step"
   ]
  },
  {
   "cell_type": "code",
   "execution_count": 15,
   "metadata": {},
   "outputs": [],
   "source": [
    "# Plot decision boundary to check that the logistic regression worked\n",
    "bins = 100\n",
    "inc = 0.02\n",
    "Xplot=np.zeros((bins,1))\n",
    "Yplot=np.zeros((bins,1))\n",
    "Zplot=np.zeros((bins,bins))\n",
    "for i in range(0,bins):\n",
    "    for j in range(0,bins):\n",
    "        Xplot[i]=-float(1)+(inc*float(i))\n",
    "        Yplot[j]=-float(1)+(inc*float(j))\n",
    "        Xtemp = np.array((Xplot[i],Yplot[j]))\n",
    "        Xtemp.shape=(1,2)\n",
    "        Xtest = map_features(Xtemp,6)\n",
    "        Zplot[i,j] = clf.predict(Xtest)"
   ]
  },
  {
   "cell_type": "code",
   "execution_count": 16,
   "metadata": {},
   "outputs": [
    {
     "name": "stderr",
     "output_type": "stream",
     "text": [
      "C:\\Users\\Anna\\Anaconda2\\lib\\site-packages\\matplotlib\\contour.py:1230: UserWarning: No contour levels were found within the data range.\n",
      "  warnings.warn(\"No contour levels were found\"\n"
     ]
    },
    {
     "data": {
      "text/plain": [
       "Text(0,0.5,'Test2')"
      ]
     },
     "execution_count": 16,
     "metadata": {},
     "output_type": "execute_result"
    },
    {
     "data": {
      "image/png": "[encoded data removed]",
      "text/plain": [
       "<Figure size 432x288 with 1 Axes>"
      ]
     },
     "metadata": {
      "needs_background": "light"
     },
     "output_type": "display_data"
    }
   ],
   "source": [
    "Xn, Yn = np.meshgrid(Xplot, Yplot)\n",
    "\n",
    "plt.scatter(Pos.values[:,0], Pos.values[:,1])\n",
    "plt.scatter(Neg.values[:,0], Neg.values[:,1])\n",
    "plt.contour(Xn, Yn, Zplot, [0,0])\n",
    "plt.xlabel('Test1')\n",
    "plt.ylabel('Test2')"
   ]
  },
  {
   "cell_type": "code",
   "execution_count": 18,
   "metadata": {},
   "outputs": [
    {
     "data": {
      "image/png": "[encoded data removed]",
      "text/plain": [
       "<Figure size 432x288 with 1 Axes>"
      ]
     },
     "metadata": {
      "needs_background": "light"
     },
     "output_type": "display_data"
    }
   ],
   "source": [
    "# Test different feature polynomial combinations\n",
    "# Does it make a difference?\n",
    "fp = np.array([2, 3, 6, 12]) #polynomials\n",
    "clrs = ['k','r','g','b']\n",
    "bins = 100\n",
    "inc = 0.02\n",
    "\n",
    "for k in range(0,fp.size):\n",
    "    X_nfeat_t = map_features(X_feat,fp[k])\n",
    "    clf = LogisticRegression(solver='liblinear',multi_class='ovr').fit(X_nfeat_t,y_class)\n",
    "   \n",
    "    for i in range(0,bins):\n",
    "        for j in range(0,bins):\n",
    "            Xplot[i]=-float(1)+(inc*float(i))\n",
    "            Yplot[j]=-float(1)+(inc*float(j))\n",
    "            Xtemp = np.array((Xplot[i],Yplot[j]))\n",
    "            Xtemp.shape=(1,2)\n",
    "            Xtest = map_features(Xtemp,fp[k])\n",
    "            Zplot[i,j] = clf.predict(Xtest)\n",
    "    \n",
    "    Xn, Yn = np.meshgrid(Xplot, Yplot)\n",
    "    plt.scatter(Pos.values[:,0], Pos.values[:,1])\n",
    "    plt.scatter(Neg.values[:,0], Neg.values[:,1])\n",
    "    plt.contour(Xn, Yn, Zplot, [0,0], colors=clrs[k])\n",
    "    plt.xlabel('Test1')\n",
    "    plt.ylabel('Test2')\n",
    "    plt.title('Decision Boundaries for different polynomial combinations of features')"
   ]
  },
  {
   "cell_type": "code",
   "execution_count": null,
   "metadata": {},
   "outputs": [],
   "source": []
  }
 ],
 "metadata": {
  "kernelspec": {
   "display_name": "Python 2",
   "language": "python",
   "name": "python2"
  },
  "language_info": {
   "codemirror_mode": {
    "name": "ipython",
    "version": 2
   },
   "file_extension": ".py",
   "mimetype": "text/x-python",
   "name": "python",
   "nbconvert_exporter": "python",
   "pygments_lexer": "ipython2",
   "version": "2.7.15"
  }
 },
 "nbformat": 4,
 "nbformat_minor": 2
}
