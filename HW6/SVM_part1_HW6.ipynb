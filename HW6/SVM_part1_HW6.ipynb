{
 "cells": [
  {
   "cell_type": "code",
   "execution_count": 1,
   "metadata": {},
   "outputs": [],
   "source": [
    "# Written by Anna C Helfeld C\n",
    "# Fall 2018-Winter 2019\n",
    "\n",
    "# This code uses my solutions written in Octave/Matlab as a guide\n",
    "# Machine Learning (Andrew Ng class on Coursera)\n",
    "# Homework 6: Support Vector Machines "
   ]
  },
  {
   "cell_type": "code",
   "execution_count": 10,
   "metadata": {},
   "outputs": [],
   "source": [
    "# Import libraries\n",
    "from pandas import *\n",
    "import matplotlib as mpl\n",
    "import matplotlib.pyplot as plt\n",
    "import numpy as np\n",
    "import scipy.io as sio\n",
    "import math as mth\n",
    "from sklearn.svm import LinearSVC\n",
    "from sklearn.svm import SVC"
   ]
  },
  {
   "cell_type": "code",
   "execution_count": 11,
   "metadata": {},
   "outputs": [
    {
     "data": {
      "text/plain": [
       "True"
      ]
     },
     "execution_count": 11,
     "metadata": {},
     "output_type": "execute_result"
    }
   ],
   "source": [
    "# Use SVM to experiment with parameter C\n",
    "\n",
    "# Make sure file exists\n",
    "import os  \n",
    "os.path.isfile('./ex6data1.mat')    # True  "
   ]
  },
  {
   "cell_type": "code",
   "execution_count": 12,
   "metadata": {},
   "outputs": [],
   "source": [
    "# Load data\n",
    "import h5py \n",
    "dataset1 = sio.loadmat('ex6data1.mat') \n",
    "dataset2 = sio.loadmat('ex6data2.mat') \n",
    "dataset3 = sio.loadmat('ex6data3.mat') "
   ]
  },
  {
   "cell_type": "code",
   "execution_count": 13,
   "metadata": {},
   "outputs": [],
   "source": [
    "# Put X and y data into arrays\n",
    "Xdata = dataset1['X']\n",
    "ydata = dataset1['y']\n",
    "Alldata = np.concatenate((Xdata,ydata), axis=1)"
   ]
  },
  {
   "cell_type": "code",
   "execution_count": 14,
   "metadata": {},
   "outputs": [
    {
     "data": {
      "text/html": [
       "<div>\n",
       "<style scoped>\n",
       "    .dataframe tbody tr th:only-of-type {\n",
       "        vertical-align: middle;\n",
       "    }\n",
       "\n",
       "    .dataframe tbody tr th {\n",
       "        vertical-align: top;\n",
       "    }\n",
       "\n",
       "    .dataframe thead th {\n",
       "        text-align: right;\n",
       "    }\n",
       "</style>\n",
       "<table border=\"1\" class=\"dataframe\">\n",
       "  <thead>\n",
       "    <tr style=\"text-align: right;\">\n",
       "      <th></th>\n",
       "      <th>0</th>\n",
       "      <th>1</th>\n",
       "      <th>2</th>\n",
       "    </tr>\n",
       "  </thead>\n",
       "  <tbody>\n",
       "    <tr>\n",
       "      <th>0</th>\n",
       "      <td>1.9643</td>\n",
       "      <td>4.5957</td>\n",
       "      <td>1.0</td>\n",
       "    </tr>\n",
       "    <tr>\n",
       "      <th>1</th>\n",
       "      <td>2.2753</td>\n",
       "      <td>3.8589</td>\n",
       "      <td>1.0</td>\n",
       "    </tr>\n",
       "    <tr>\n",
       "      <th>2</th>\n",
       "      <td>2.9781</td>\n",
       "      <td>4.5651</td>\n",
       "      <td>1.0</td>\n",
       "    </tr>\n",
       "    <tr>\n",
       "      <th>3</th>\n",
       "      <td>2.9320</td>\n",
       "      <td>3.5519</td>\n",
       "      <td>1.0</td>\n",
       "    </tr>\n",
       "    <tr>\n",
       "      <th>4</th>\n",
       "      <td>3.5772</td>\n",
       "      <td>2.8560</td>\n",
       "      <td>1.0</td>\n",
       "    </tr>\n",
       "  </tbody>\n",
       "</table>\n",
       "</div>"
      ],
      "text/plain": [
       "        0       1    2\n",
       "0  1.9643  4.5957  1.0\n",
       "1  2.2753  3.8589  1.0\n",
       "2  2.9781  4.5651  1.0\n",
       "3  2.9320  3.5519  1.0\n",
       "4  3.5772  2.8560  1.0"
      ]
     },
     "execution_count": 14,
     "metadata": {},
     "output_type": "execute_result"
    }
   ],
   "source": [
    "Alldatadf = DataFrame(data=Alldata)  #Put data into data frame\n",
    "Alldatadf.head()"
   ]
  },
  {
   "cell_type": "code",
   "execution_count": 22,
   "metadata": {},
   "outputs": [
    {
     "data": {
      "text/html": [
       "<div>\n",
       "<style scoped>\n",
       "    .dataframe tbody tr th:only-of-type {\n",
       "        vertical-align: middle;\n",
       "    }\n",
       "\n",
       "    .dataframe tbody tr th {\n",
       "        vertical-align: top;\n",
       "    }\n",
       "\n",
       "    .dataframe thead th {\n",
       "        text-align: right;\n",
       "    }\n",
       "</style>\n",
       "<table border=\"1\" class=\"dataframe\">\n",
       "  <thead>\n",
       "    <tr style=\"text-align: right;\">\n",
       "      <th></th>\n",
       "      <th>0</th>\n",
       "      <th>1</th>\n",
       "      <th>2</th>\n",
       "    </tr>\n",
       "  </thead>\n",
       "  <tbody>\n",
       "    <tr>\n",
       "      <th>17</th>\n",
       "      <td>3.9113</td>\n",
       "      <td>3.4291</td>\n",
       "      <td>1.0</td>\n",
       "    </tr>\n",
       "    <tr>\n",
       "      <th>36</th>\n",
       "      <td>1.4919</td>\n",
       "      <td>2.0271</td>\n",
       "      <td>0.0</td>\n",
       "    </tr>\n",
       "    <tr>\n",
       "      <th>11</th>\n",
       "      <td>3.1048</td>\n",
       "      <td>3.0709</td>\n",
       "      <td>1.0</td>\n",
       "    </tr>\n",
       "    <tr>\n",
       "      <th>28</th>\n",
       "      <td>2.5057</td>\n",
       "      <td>2.3853</td>\n",
       "      <td>0.0</td>\n",
       "    </tr>\n",
       "    <tr>\n",
       "      <th>39</th>\n",
       "      <td>0.8122</td>\n",
       "      <td>2.9992</td>\n",
       "      <td>0.0</td>\n",
       "    </tr>\n",
       "  </tbody>\n",
       "</table>\n",
       "</div>"
      ],
      "text/plain": [
       "         0       1    2\n",
       "17  3.9113  3.4291  1.0\n",
       "36  1.4919  2.0271  0.0\n",
       "11  3.1048  3.0709  1.0\n",
       "28  2.5057  2.3853  0.0\n",
       "39  0.8122  2.9992  0.0"
      ]
     },
     "execution_count": 22,
     "metadata": {},
     "output_type": "execute_result"
    }
   ],
   "source": [
    "Alldatadf_ran = Alldatadf.sample(frac=1) #randomize data\n",
    "Alldatadf_ran.head() #check "
   ]
  },
  {
   "cell_type": "code",
   "execution_count": 20,
   "metadata": {},
   "outputs": [
    {
     "data": {
      "text/html": [
       "<div>\n",
       "<style scoped>\n",
       "    .dataframe tbody tr th:only-of-type {\n",
       "        vertical-align: middle;\n",
       "    }\n",
       "\n",
       "    .dataframe tbody tr th {\n",
       "        vertical-align: top;\n",
       "    }\n",
       "\n",
       "    .dataframe thead th {\n",
       "        text-align: right;\n",
       "    }\n",
       "</style>\n",
       "<table border=\"1\" class=\"dataframe\">\n",
       "  <thead>\n",
       "    <tr style=\"text-align: right;\">\n",
       "      <th></th>\n",
       "      <th>0</th>\n",
       "      <th>1</th>\n",
       "      <th>2</th>\n",
       "    </tr>\n",
       "  </thead>\n",
       "  <tbody>\n",
       "    <tr>\n",
       "      <th>4</th>\n",
       "      <td>3.5772</td>\n",
       "      <td>2.8560</td>\n",
       "      <td>1.0</td>\n",
       "    </tr>\n",
       "    <tr>\n",
       "      <th>1</th>\n",
       "      <td>2.2753</td>\n",
       "      <td>3.8589</td>\n",
       "      <td>1.0</td>\n",
       "    </tr>\n",
       "    <tr>\n",
       "      <th>15</th>\n",
       "      <td>3.1855</td>\n",
       "      <td>4.2888</td>\n",
       "      <td>1.0</td>\n",
       "    </tr>\n",
       "    <tr>\n",
       "      <th>17</th>\n",
       "      <td>3.9113</td>\n",
       "      <td>3.4291</td>\n",
       "      <td>1.0</td>\n",
       "    </tr>\n",
       "    <tr>\n",
       "      <th>9</th>\n",
       "      <td>2.5518</td>\n",
       "      <td>4.6162</td>\n",
       "      <td>1.0</td>\n",
       "    </tr>\n",
       "  </tbody>\n",
       "</table>\n",
       "</div>"
      ],
      "text/plain": [
       "         0       1    2\n",
       "4   3.5772  2.8560  1.0\n",
       "1   2.2753  3.8589  1.0\n",
       "15  3.1855  4.2888  1.0\n",
       "17  3.9113  3.4291  1.0\n",
       "9   2.5518  4.6162  1.0"
      ]
     },
     "execution_count": 20,
     "metadata": {},
     "output_type": "execute_result"
    }
   ],
   "source": [
    "# For plotting purposes\n",
    "neg = Alldatadf_ran[Alldatadf_ran.iloc[:,2] == 0]    # segment the data into pos and neg class\n",
    "pos = Alldatadf_ran[Alldatadf_ran.iloc[:,2] == 1]  \n",
    "pos.head()"
   ]
  },
  {
   "cell_type": "code",
   "execution_count": 26,
   "metadata": {},
   "outputs": [],
   "source": [
    "# Split into training data and cross-validation data\n",
    "Xtrain = Alldatadf_ran.iloc[0:int(Alldatadf_ran.shape[0]*0.8),0:-1]\n",
    "ytrain = Alldatadf_ran.iloc[0:int(Alldatadf_ran.shape[0]*0.8),-1]\n",
    "\n",
    "Xcv = Alldatadf_ran.iloc[int(Alldatadf_ran.shape[0]*0.8):Alldatadf_ran.shape[0],0:-1]\n",
    "ycv = Alldatadf_ran.iloc[int(Alldatadf_ran.shape[0]*0.8):Alldatadf_ran.shape[0],-1]"
   ]
  },
  {
   "cell_type": "code",
   "execution_count": 27,
   "metadata": {},
   "outputs": [],
   "source": [
    "# Put into arrays\n",
    "Xtrain_a = Xtrain.values\n",
    "ytrain_a = ytrain.values\n",
    "Xcv_a = Xcv.values\n",
    "ycv_a = ycv.values"
   ]
  },
  {
   "cell_type": "code",
   "execution_count": 28,
   "metadata": {},
   "outputs": [],
   "source": [
    "# Test how penalty C - similar to \"inverse\" of regularization - affects linear SVM\n",
    "\n",
    "clf = LinearSVC(C=1.0, max_iter = 1000,fit_intercept = True).fit(Xtrain_a,ytrain_a)"
   ]
  },
  {
   "cell_type": "code",
   "execution_count": 29,
   "metadata": {},
   "outputs": [
    {
     "data": {
      "text/plain": [
       "0.7240542182540204"
      ]
     },
     "execution_count": 29,
     "metadata": {},
     "output_type": "execute_result"
    }
   ],
   "source": [
    "clf.coef_[0][1]"
   ]
  },
  {
   "cell_type": "code",
   "execution_count": 30,
   "metadata": {},
   "outputs": [
    {
     "data": {
      "text/plain": [
       "-3.3060829802691822"
      ]
     },
     "execution_count": 30,
     "metadata": {},
     "output_type": "execute_result"
    }
   ],
   "source": [
    "clf.intercept_[0]"
   ]
  },
  {
   "cell_type": "code",
   "execution_count": 31,
   "metadata": {},
   "outputs": [],
   "source": [
    "# For plotting\n",
    "bins = 48\n",
    "inc = 0.1\n",
    "Xplot=np.zeros((bins,2))\n",
    "yplot=np.zeros((bins,1))\n",
    "for i in range(0,bins):\n",
    "    Xplot[i,0]=-float(0)+(inc*float(i))\n",
    "    Xplot[i,1]=1.5+(inc*float(i))\n",
    "    yplot[i]=-(clf.coef_[0][0]*Xplot[i,0]+clf.intercept_[0])/clf.coef_[0][1]"
   ]
  },
  {
   "cell_type": "code",
   "execution_count": 32,
   "metadata": {},
   "outputs": [
    {
     "data": {
      "image/png": "[encoded data removed]",
      "text/plain": [
       "<Figure size 432x288 with 1 Axes>"
      ]
     },
     "metadata": {
      "needs_background": "light"
     },
     "output_type": "display_data"
    }
   ],
   "source": [
    "# Plot data to see what it looks like\n",
    "pos_plot = plt.scatter(pos.values[:,0], pos.values[:,1])\n",
    "neg_plot = plt.scatter(neg.values[:,0], neg.values[:,1])\n",
    "\n",
    "# Plot decision boundary\n",
    "decision = plt.plot(Xplot[:,0], yplot[:],linestyle='dashed', color = 'purple')"
   ]
  },
  {
   "cell_type": "code",
   "execution_count": 36,
   "metadata": {},
   "outputs": [
    {
     "data": {
      "text/plain": [
       "Text(0.5,1,'Decision Boundary for Different Parameters C')"
      ]
     },
     "execution_count": 36,
     "metadata": {},
     "output_type": "execute_result"
    },
    {
     "data": {
      "image/png": "[encoded data removed]",
      "text/plain": [
       "<Figure size 432x288 with 1 Axes>"
      ]
     },
     "metadata": {
      "needs_background": "light"
     },
     "output_type": "display_data"
    }
   ],
   "source": [
    "# Plot data to see what it looks like\n",
    "pos_plot = plt.scatter(pos.values[:,0], pos.values[:,1])\n",
    "neg_plot = plt.scatter(neg.values[:,0], neg.values[:,1])\n",
    "\n",
    "# Loop over different values of C\n",
    "C_test = [0.3, 1, 10, 70]\n",
    "colors = ['b', 'r', 'g', 'y']\n",
    "for j in range(0,4):\n",
    "    clf = LinearSVC(C=C_test[j], max_iter = 8000,fit_intercept = True).fit(Xtrain_a,ytrain_a)\n",
    "    for i in range(0,bins):\n",
    "        Xplot[i,0]=-float(0)+(inc*float(i))\n",
    "        Xplot[i,1]=1.5+(inc*float(i))\n",
    "        yplot[i]=-(clf.coef_[0][0]*Xplot[i,0]+clf.intercept_[0])/clf.coef_[0][1]\n",
    "    dec = plt.scatter(Xplot[:,0], yplot[:], s=2, c = colors[j], label = 'C = %2.1f' % C_test[j])\n",
    "plt.legend()\n",
    "plt.title('Decision Boundary for Different Parameters C')"
   ]
  },
  {
   "cell_type": "code",
   "execution_count": 34,
   "metadata": {},
   "outputs": [],
   "source": [
    "# Predict using C = 1\n",
    "\n",
    "clf = LinearSVC(C=1, max_iter = 8000,fit_intercept = True).fit(Xtrain_a,ytrain_a)"
   ]
  },
  {
   "cell_type": "code",
   "execution_count": 35,
   "metadata": {},
   "outputs": [
    {
     "data": {
      "text/plain": [
       "array([0., 0., 0., 0., 0., 0., 0., 0., 0., 0., 0.])"
      ]
     },
     "execution_count": 35,
     "metadata": {},
     "output_type": "execute_result"
    }
   ],
   "source": [
    "clf.predict(Xcv_a)-ycv_a"
   ]
  },
  {
   "cell_type": "code",
   "execution_count": null,
   "metadata": {},
   "outputs": [],
   "source": []
  }
 ],
 "metadata": {
  "kernelspec": {
   "display_name": "Python 2",
   "language": "python",
   "name": "python2"
  },
  "language_info": {
   "codemirror_mode": {
    "name": "ipython",
    "version": 2
   },
   "file_extension": ".py",
   "mimetype": "text/x-python",
   "name": "python",
   "nbconvert_exporter": "python",
   "pygments_lexer": "ipython2",
   "version": "2.7.15"
  }
 },
 "nbformat": 4,
 "nbformat_minor": 2
}
