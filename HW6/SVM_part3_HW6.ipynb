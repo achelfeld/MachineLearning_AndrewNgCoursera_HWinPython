{
 "cells": [
  {
   "cell_type": "code",
   "execution_count": 1,
   "metadata": {},
   "outputs": [],
   "source": [
    "# Written by Anna C Helfeld C\n",
    "# Fall 2018-Winter 2019\n",
    "\n",
    "# This code uses my solutions written in Octave/Matlab as a guide\n",
    "# Machine Learning (Andrew Ng class on Coursera)\n",
    "# Homework 6: Support Vector Machines "
   ]
  },
  {
   "cell_type": "code",
   "execution_count": 2,
   "metadata": {},
   "outputs": [],
   "source": [
    "# Import libraries\n",
    "from pandas import *\n",
    "import matplotlib as mpl\n",
    "import matplotlib.pyplot as plt\n",
    "import numpy as np\n",
    "import scipy.io as sio\n",
    "import math as mth\n",
    "from sklearn.svm import SVC"
   ]
  },
  {
   "cell_type": "code",
   "execution_count": 17,
   "metadata": {},
   "outputs": [],
   "source": [
    "# Load data\n",
    "import h5py \n",
    "dataset = sio.loadmat('spamTrain.mat') \n",
    "dataset_cv = sio.loadmat('spamTest.mat') "
   ]
  },
  {
   "cell_type": "code",
   "execution_count": 18,
   "metadata": {},
   "outputs": [],
   "source": [
    "# Put X and y data into arrays\n",
    "Xdata = dataset['X']\n",
    "ydata = dataset['y']\n",
    "\n",
    "Xcv = dataset_cv['Xtest']\n",
    "ycv = dataset_cv['ytest']\n",
    "\n",
    "Alldata = np.concatenate((Xdata,ydata), axis=1)"
   ]
  },
  {
   "cell_type": "code",
   "execution_count": 66,
   "metadata": {},
   "outputs": [],
   "source": [
    "# Train using RBF aka Gaussian kernel\n",
    "clf = SVC(C=10, kernel = 'rbf', max_iter = 2000, gamma = 'auto').fit(Xtrain_a,ytrain_a)"
   ]
  },
  {
   "cell_type": "code",
   "execution_count": 69,
   "metadata": {},
   "outputs": [
    {
     "data": {
      "text/plain": [
       "0.8265895953757225"
      ]
     },
     "execution_count": 69,
     "metadata": {},
     "output_type": "execute_result"
    }
   ],
   "source": [
    "# Same thing with built-in function score\n",
    "clf.score(Xcv_a, ycv_a)"
   ]
  },
  {
   "cell_type": "code",
   "execution_count": 70,
   "metadata": {},
   "outputs": [
    {
     "data": {
      "text/plain": [
       "0.8115942028985508"
      ]
     },
     "execution_count": 70,
     "metadata": {},
     "output_type": "execute_result"
    }
   ],
   "source": [
    "# Same thing with built-in function score\n",
    "clf.score(Xtrain_a, ytrain_a)"
   ]
  },
  {
   "cell_type": "code",
   "execution_count": null,
   "metadata": {},
   "outputs": [],
   "source": []
  }
 ],
 "metadata": {
  "kernelspec": {
   "display_name": "Python 2",
   "language": "python",
   "name": "python2"
  },
  "language_info": {
   "codemirror_mode": {
    "name": "ipython",
    "version": 2
   },
   "file_extension": ".py",
   "mimetype": "text/x-python",
   "name": "python",
   "nbconvert_exporter": "python",
   "pygments_lexer": "ipython2",
   "version": "2.7.15"
  }
 },
 "nbformat": 4,
 "nbformat_minor": 2
}
